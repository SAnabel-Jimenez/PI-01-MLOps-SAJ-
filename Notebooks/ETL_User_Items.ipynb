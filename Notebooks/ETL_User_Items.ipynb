{
 "cells": [
  {
   "cell_type": "markdown",
   "metadata": {},
   "source": [
    "## Extracción, Tratamiento y Carga de datos (ETL)\n",
    "\n",
    "### Objetivo\n",
    "\n",
    "El objetivo de este notebook es realizar un proceso de ETL del archivo JSON \"australian_user_items\". Como primer paso de la Ingeniería de datos, los datos se prepararán y limpiarán para su posterior análisis.\n",
    "\n",
    "### Archivo de Datos: australian_user_items\n",
    "\n",
    "El archivo \"australian_user_items\" contiene información sobre los items (o juegos) jugados por los usuarios de la plataforma STEAM (plataforma multinacional de videojuegos). \n",
    "La información que nos muestra es: user_id, user_url, items.\n",
    "\n",
    "El detalle de los datos se encuentran en el siguiente [LINK](https://docs.google.com/spreadsheets/d/1y2FbOU9jsJbJkdmBLC7Lr3u576yENh0Z/edit?usp=sharing&ouid=100343940744383618882&rtpof=true&sd=true) con el diccionario de datos del dataset."
   ]
  },
  {
   "cell_type": "markdown",
   "metadata": {},
   "source": [
    "### 1. Carga de datos"
   ]
  },
  {
   "cell_type": "markdown",
   "metadata": {},
   "source": [
    "Librerías"
   ]
  },
  {
   "cell_type": "code",
   "execution_count": 7,
   "metadata": {},
   "outputs": [],
   "source": [
    "#pip install matplotlib\n",
    "#pip install seaborn\n",
    "#pip install pyarrow \n",
    "#pip install fastparquet\n",
    "\n",
    "\n",
    "import pandas as pd\n",
    "from pandas import json_normalize\n",
    "import numpy as np\n",
    "import json\n",
    "\n",
    "# import warnings\n",
    "# warnings.filterwarnings(\"ignore\")"
   ]
  },
  {
   "cell_type": "markdown",
   "metadata": {},
   "source": [
    "Cargamos el archivo json. El archivo se llama \"australian_users_items\" el cual se utilizará en adelante y se encuentra en el siguiente [link](https://drive.google.com/drive/folders/1PvMb8F0veZYFmmcZytfVBNvmfzi6Rwl9?usp=sharing)"
   ]
  },
  {
   "cell_type": "code",
   "execution_count": 11,
   "metadata": {},
   "outputs": [],
   "source": [
    "# Demora en ejecutar (5 minutos aprox.)\n",
    "\n",
    "import ast # Módulo para evaluar expresiones literales de Python (seguro si los datos son confiables)\n",
    "\n",
    "# Abrir el archivo y cargar las líneas en una lista\n",
    "with open('australian_users_items.json', 'r', encoding='utf-8') as f:\n",
    "    base = f.readlines() #Se abre el archivo 'australian_users_items.json' en modo de lectura ('r') y se lee cada línea del archivo en una lista llamada base\n",
    "\n",
    "# Evaluar cada línea como una expresión literal de Python\n",
    "data = [eval(line.strip()) for line in base]\n",
    "# Crear DataFrame a partir de los registros\n",
    "df_User_Items= pd.DataFrame(data)"
   ]
  },
  {
   "cell_type": "code",
   "execution_count": 19,
   "metadata": {},
   "outputs": [
    {
     "data": {
      "text/html": [
       "<div>\n",
       "<style scoped>\n",
       "    .dataframe tbody tr th:only-of-type {\n",
       "        vertical-align: middle;\n",
       "    }\n",
       "\n",
       "    .dataframe tbody tr th {\n",
       "        vertical-align: top;\n",
       "    }\n",
       "\n",
       "    .dataframe thead th {\n",
       "        text-align: right;\n",
       "    }\n",
       "</style>\n",
       "<table border=\"1\" class=\"dataframe\">\n",
       "  <thead>\n",
       "    <tr style=\"text-align: right;\">\n",
       "      <th></th>\n",
       "      <th>user_id</th>\n",
       "      <th>items_count</th>\n",
       "      <th>steam_id</th>\n",
       "      <th>user_url</th>\n",
       "      <th>items</th>\n",
       "    </tr>\n",
       "  </thead>\n",
       "  <tbody>\n",
       "    <tr>\n",
       "      <th>0</th>\n",
       "      <td>76561197970982479</td>\n",
       "      <td>277</td>\n",
       "      <td>76561197970982479</td>\n",
       "      <td>http://steamcommunity.com/profiles/76561197970...</td>\n",
       "      <td>[{'item_id': '10', 'item_name': 'Counter-Strik...</td>\n",
       "    </tr>\n",
       "    <tr>\n",
       "      <th>1</th>\n",
       "      <td>js41637</td>\n",
       "      <td>888</td>\n",
       "      <td>76561198035864385</td>\n",
       "      <td>http://steamcommunity.com/id/js41637</td>\n",
       "      <td>[{'item_id': '10', 'item_name': 'Counter-Strik...</td>\n",
       "    </tr>\n",
       "    <tr>\n",
       "      <th>2</th>\n",
       "      <td>evcentric</td>\n",
       "      <td>137</td>\n",
       "      <td>76561198007712555</td>\n",
       "      <td>http://steamcommunity.com/id/evcentric</td>\n",
       "      <td>[{'item_id': '1200', 'item_name': 'Red Orchest...</td>\n",
       "    </tr>\n",
       "    <tr>\n",
       "      <th>3</th>\n",
       "      <td>Riot-Punch</td>\n",
       "      <td>328</td>\n",
       "      <td>76561197963445855</td>\n",
       "      <td>http://steamcommunity.com/id/Riot-Punch</td>\n",
       "      <td>[{'item_id': '10', 'item_name': 'Counter-Strik...</td>\n",
       "    </tr>\n",
       "    <tr>\n",
       "      <th>4</th>\n",
       "      <td>doctr</td>\n",
       "      <td>541</td>\n",
       "      <td>76561198002099482</td>\n",
       "      <td>http://steamcommunity.com/id/doctr</td>\n",
       "      <td>[{'item_id': '300', 'item_name': 'Day of Defea...</td>\n",
       "    </tr>\n",
       "  </tbody>\n",
       "</table>\n",
       "</div>"
      ],
      "text/plain": [
       "             user_id  items_count           steam_id  \\\n",
       "0  76561197970982479          277  76561197970982479   \n",
       "1            js41637          888  76561198035864385   \n",
       "2          evcentric          137  76561198007712555   \n",
       "3         Riot-Punch          328  76561197963445855   \n",
       "4              doctr          541  76561198002099482   \n",
       "\n",
       "                                            user_url  \\\n",
       "0  http://steamcommunity.com/profiles/76561197970...   \n",
       "1               http://steamcommunity.com/id/js41637   \n",
       "2             http://steamcommunity.com/id/evcentric   \n",
       "3            http://steamcommunity.com/id/Riot-Punch   \n",
       "4                 http://steamcommunity.com/id/doctr   \n",
       "\n",
       "                                               items  \n",
       "0  [{'item_id': '10', 'item_name': 'Counter-Strik...  \n",
       "1  [{'item_id': '10', 'item_name': 'Counter-Strik...  \n",
       "2  [{'item_id': '1200', 'item_name': 'Red Orchest...  \n",
       "3  [{'item_id': '10', 'item_name': 'Counter-Strik...  \n",
       "4  [{'item_id': '300', 'item_name': 'Day of Defea...  "
      ]
     },
     "execution_count": 19,
     "metadata": {},
     "output_type": "execute_result"
    }
   ],
   "source": [
    "df_User_Items.head()"
   ]
  },
  {
   "cell_type": "code",
   "execution_count": 15,
   "metadata": {},
   "outputs": [
    {
     "name": "stdout",
     "output_type": "stream",
     "text": [
      "El DataFrame tiene 88310 filas y 5 columnas.\n"
     ]
    }
   ],
   "source": [
    "print(f\"El DataFrame tiene {df_User_Items.shape[0]} filas y {df_User_Items.shape[1]} columnas.\")\n"
   ]
  },
  {
   "cell_type": "code",
   "execution_count": 20,
   "metadata": {},
   "outputs": [],
   "source": [
    "df=df_User_Items.copy()"
   ]
  },
  {
   "cell_type": "markdown",
   "metadata": {},
   "source": [
    "### 2. Exploramos el Dataframe"
   ]
  },
  {
   "cell_type": "code",
   "execution_count": 16,
   "metadata": {},
   "outputs": [
    {
     "data": {
      "text/plain": [
       "Index(['user_id', 'items_count', 'steam_id', 'user_url', 'items'], dtype='object')"
      ]
     },
     "execution_count": 16,
     "metadata": {},
     "output_type": "execute_result"
    }
   ],
   "source": [
    "df_User_Items.columns"
   ]
  },
  {
   "cell_type": "code",
   "execution_count": 17,
   "metadata": {},
   "outputs": [
    {
     "name": "stdout",
     "output_type": "stream",
     "text": [
      "<class 'pandas.core.frame.DataFrame'>\n",
      "RangeIndex: 88310 entries, 0 to 88309\n",
      "Data columns (total 5 columns):\n",
      " #   Column       Non-Null Count  Dtype \n",
      "---  ------       --------------  ----- \n",
      " 0   user_id      88310 non-null  object\n",
      " 1   items_count  88310 non-null  int64 \n",
      " 2   steam_id     88310 non-null  object\n",
      " 3   user_url     88310 non-null  object\n",
      " 4   items        88310 non-null  object\n",
      "dtypes: int64(1), object(4)\n",
      "memory usage: 3.4+ MB\n"
     ]
    }
   ],
   "source": [
    "df_User_Items.info()"
   ]
  },
  {
   "cell_type": "markdown",
   "metadata": {},
   "source": [
    "Del dataframe **df_User_Items** se observa lo siguiente:\n",
    "\n",
    "| Variable  | Descripción                                      |\n",
    "|-----------|-------------------------------------------------------|\n",
    "| user_id   | Identificador único del usuario                  |\n",
    "| items_count  | Cantidad de items                         |\n",
    "| steam_id   | Identificador único |\n",
    "| user_url   | El url del perfil del usuario                 |\n",
    "| items  |   Items del usuao, aparentemente en formato json            |\n",
    "\n",
    "Cada 'items' de un usuario es una lista de diccionarios en formato JSON. Cada elemento de la lista contiene pares clave-valor (como \"item_id\", \"item_name\", \"playtime_forever\" y \"playtime_2weeks\") con información de los items relacionados a los usuarios. \n",
    "\n",
    "Exploremos a más detalle la variable 'items'."
   ]
  },
  {
   "cell_type": "code",
   "execution_count": 25,
   "metadata": {},
   "outputs": [
    {
     "data": {
      "text/plain": [
       "[{'item_id': '4000',\n",
       "  'item_name': \"Garry's Mod\",\n",
       "  'playtime_forever': 2644,\n",
       "  'playtime_2weeks': 0},\n",
       " {'item_id': '1250',\n",
       "  'item_name': 'Killing Floor',\n",
       "  'playtime_forever': 30266,\n",
       "  'playtime_2weeks': 0},\n",
       " {'item_id': '35420',\n",
       "  'item_name': 'Killing Floor Mod: Defence Alliance 2',\n",
       "  'playtime_forever': 54,\n",
       "  'playtime_2weeks': 0},\n",
       " {'item_id': '6060',\n",
       "  'item_name': 'STAR WARS™ Battlefront™ II',\n",
       "  'playtime_forever': 86,\n",
       "  'playtime_2weeks': 0},\n",
       " {'item_id': '10',\n",
       "  'item_name': 'Counter-Strike',\n",
       "  'playtime_forever': 108,\n",
       "  'playtime_2weeks': 0},\n",
       " {'item_id': '20',\n",
       "  'item_name': 'Team Fortress Classic',\n",
       "  'playtime_forever': 0,\n",
       "  'playtime_2weeks': 0},\n",
       " {'item_id': '30',\n",
       "  'item_name': 'Day of Defeat',\n",
       "  'playtime_forever': 0,\n",
       "  'playtime_2weeks': 0},\n",
       " {'item_id': '40',\n",
       "  'item_name': 'Deathmatch Classic',\n",
       "  'playtime_forever': 0,\n",
       "  'playtime_2weeks': 0},\n",
       " {'item_id': '50',\n",
       "  'item_name': 'Half-Life: Opposing Force',\n",
       "  'playtime_forever': 45,\n",
       "  'playtime_2weeks': 0},\n",
       " {'item_id': '60',\n",
       "  'item_name': 'Ricochet',\n",
       "  'playtime_forever': 0,\n",
       "  'playtime_2weeks': 0},\n",
       " {'item_id': '70',\n",
       "  'item_name': 'Half-Life',\n",
       "  'playtime_forever': 227,\n",
       "  'playtime_2weeks': 0},\n",
       " {'item_id': '80',\n",
       "  'item_name': 'Counter-Strike: Condition Zero',\n",
       "  'playtime_forever': 245,\n",
       "  'playtime_2weeks': 0},\n",
       " {'item_id': '100',\n",
       "  'item_name': 'Counter-Strike: Condition Zero Deleted Scenes',\n",
       "  'playtime_forever': 37,\n",
       "  'playtime_2weeks': 0},\n",
       " {'item_id': '130',\n",
       "  'item_name': 'Half-Life: Blue Shift',\n",
       "  'playtime_forever': 0,\n",
       "  'playtime_2weeks': 0},\n",
       " {'item_id': '220',\n",
       "  'item_name': 'Half-Life 2',\n",
       "  'playtime_forever': 736,\n",
       "  'playtime_2weeks': 0},\n",
       " {'item_id': '240',\n",
       "  'item_name': 'Counter-Strike: Source',\n",
       "  'playtime_forever': 63940,\n",
       "  'playtime_2weeks': 0},\n",
       " {'item_id': '280',\n",
       "  'item_name': 'Half-Life: Source',\n",
       "  'playtime_forever': 0,\n",
       "  'playtime_2weeks': 0},\n",
       " {'item_id': '300',\n",
       "  'item_name': 'Day of Defeat: Source',\n",
       "  'playtime_forever': 248,\n",
       "  'playtime_2weeks': 0},\n",
       " {'item_id': '320',\n",
       "  'item_name': 'Half-Life 2: Deathmatch',\n",
       "  'playtime_forever': 173,\n",
       "  'playtime_2weeks': 0},\n",
       " {'item_id': '340',\n",
       "  'item_name': 'Half-Life 2: Lost Coast',\n",
       "  'playtime_forever': 33,\n",
       "  'playtime_2weeks': 0},\n",
       " {'item_id': '360',\n",
       "  'item_name': 'Half-Life Deathmatch: Source',\n",
       "  'playtime_forever': 0,\n",
       "  'playtime_2weeks': 0},\n",
       " {'item_id': '380',\n",
       "  'item_name': 'Half-Life 2: Episode One',\n",
       "  'playtime_forever': 199,\n",
       "  'playtime_2weeks': 0},\n",
       " {'item_id': '400',\n",
       "  'item_name': 'Portal',\n",
       "  'playtime_forever': 238,\n",
       "  'playtime_2weeks': 0},\n",
       " {'item_id': '420',\n",
       "  'item_name': 'Half-Life 2: Episode Two',\n",
       "  'playtime_forever': 281,\n",
       "  'playtime_2weeks': 0},\n",
       " {'item_id': '500',\n",
       "  'item_name': 'Left 4 Dead',\n",
       "  'playtime_forever': 2524,\n",
       "  'playtime_2weeks': 0},\n",
       " {'item_id': '550',\n",
       "  'item_name': 'Left 4 Dead 2',\n",
       "  'playtime_forever': 12908,\n",
       "  'playtime_2weeks': 0},\n",
       " {'item_id': '223530',\n",
       "  'item_name': 'Left 4 Dead 2 Beta',\n",
       "  'playtime_forever': 0,\n",
       "  'playtime_2weeks': 0},\n",
       " {'item_id': '10680',\n",
       "  'item_name': 'Aliens vs. Predator',\n",
       "  'playtime_forever': 1031,\n",
       "  'playtime_2weeks': 0},\n",
       " {'item_id': '24960',\n",
       "  'item_name': 'Battlefield: Bad Company 2',\n",
       "  'playtime_forever': 501,\n",
       "  'playtime_2weeks': 0},\n",
       " {'item_id': '43000',\n",
       "  'item_name': 'Front Mission Evolved',\n",
       "  'playtime_forever': 784,\n",
       "  'playtime_2weeks': 0},\n",
       " {'item_id': '8980',\n",
       "  'item_name': 'Borderlands',\n",
       "  'playtime_forever': 5002,\n",
       "  'playtime_2weeks': 0},\n",
       " {'item_id': '42700',\n",
       "  'item_name': 'Call of Duty: Black Ops',\n",
       "  'playtime_forever': 1440,\n",
       "  'playtime_2weeks': 0},\n",
       " {'item_id': '42710',\n",
       "  'item_name': 'Call of Duty: Black Ops - Multiplayer',\n",
       "  'playtime_forever': 39,\n",
       "  'playtime_2weeks': 0},\n",
       " {'item_id': '63200',\n",
       "  'item_name': 'Monday Night Combat',\n",
       "  'playtime_forever': 1227,\n",
       "  'playtime_2weeks': 0},\n",
       " {'item_id': '15750',\n",
       "  'item_name': \"Oddworld: Stranger's Wrath HD\",\n",
       "  'playtime_forever': 872,\n",
       "  'playtime_2weeks': 0},\n",
       " {'item_id': '42910',\n",
       "  'item_name': 'Magicka',\n",
       "  'playtime_forever': 236,\n",
       "  'playtime_2weeks': 0},\n",
       " {'item_id': '620',\n",
       "  'item_name': 'Portal 2',\n",
       "  'playtime_forever': 3244,\n",
       "  'playtime_2weeks': 0},\n",
       " {'item_id': '12900',\n",
       "  'item_name': 'Audiosurf',\n",
       "  'playtime_forever': 16,\n",
       "  'playtime_2weeks': 0},\n",
       " {'item_id': '15500',\n",
       "  'item_name': 'The Wonderful End of the World',\n",
       "  'playtime_forever': 0,\n",
       "  'playtime_2weeks': 0},\n",
       " {'item_id': '15520',\n",
       "  'item_name': 'AaAaAA!!! - A Reckless Disregard for Gravity',\n",
       "  'playtime_forever': 0,\n",
       "  'playtime_2weeks': 0},\n",
       " {'item_id': '15540',\n",
       "  'item_name': '1... 2... 3... KICK IT! (Drop That Beat Like an Ugly Baby)',\n",
       "  'playtime_forever': 0,\n",
       "  'playtime_2weeks': 0},\n",
       " {'item_id': '18500',\n",
       "  'item_name': 'Defense Grid: The Awakening',\n",
       "  'playtime_forever': 210,\n",
       "  'playtime_2weeks': 0},\n",
       " {'item_id': '26500',\n",
       "  'item_name': 'Cogs',\n",
       "  'playtime_forever': 0,\n",
       "  'playtime_2weeks': 0},\n",
       " {'item_id': '35460',\n",
       "  'item_name': 'The Ball',\n",
       "  'playtime_forever': 0,\n",
       "  'playtime_2weeks': 0},\n",
       " {'item_id': '38700',\n",
       "  'item_name': 'Toki Tori',\n",
       "  'playtime_forever': 0,\n",
       "  'playtime_2weeks': 0},\n",
       " {'item_id': '38720',\n",
       "  'item_name': 'RUSH',\n",
       "  'playtime_forever': 0,\n",
       "  'playtime_2weeks': 0},\n",
       " {'item_id': '40800',\n",
       "  'item_name': 'Super Meat Boy',\n",
       "  'playtime_forever': 0,\n",
       "  'playtime_2weeks': 0},\n",
       " {'item_id': '57300',\n",
       "  'item_name': 'Amnesia: The Dark Descent',\n",
       "  'playtime_forever': 0,\n",
       "  'playtime_2weeks': 0},\n",
       " {'item_id': '63700',\n",
       "  'item_name': 'BIT.TRIP BEAT',\n",
       "  'playtime_forever': 0,\n",
       "  'playtime_2weeks': 0},\n",
       " {'item_id': '105600',\n",
       "  'item_name': 'Terraria',\n",
       "  'playtime_forever': 7891,\n",
       "  'playtime_2weeks': 0},\n",
       " {'item_id': '105400',\n",
       "  'item_name': 'Fable III',\n",
       "  'playtime_forever': 991,\n",
       "  'playtime_2weeks': 0},\n",
       " {'item_id': '24240',\n",
       "  'item_name': 'PAYDAY: The Heist',\n",
       "  'playtime_forever': 1346,\n",
       "  'playtime_2weeks': 0},\n",
       " {'item_id': '17710',\n",
       "  'item_name': 'Nuclear Dawn',\n",
       "  'playtime_forever': 1506,\n",
       "  'playtime_2weeks': 0},\n",
       " {'item_id': '104900',\n",
       "  'item_name': 'ORION: Prelude',\n",
       "  'playtime_forever': 991,\n",
       "  'playtime_2weeks': 0},\n",
       " {'item_id': '3700',\n",
       "  'item_name': 'Sniper Elite',\n",
       "  'playtime_forever': 23,\n",
       "  'playtime_2weeks': 0},\n",
       " {'item_id': '63380',\n",
       "  'item_name': 'Sniper Elite V2',\n",
       "  'playtime_forever': 839,\n",
       "  'playtime_2weeks': 0},\n",
       " {'item_id': '49520',\n",
       "  'item_name': 'Borderlands 2',\n",
       "  'playtime_forever': 5368,\n",
       "  'playtime_2weeks': 0},\n",
       " {'item_id': '730',\n",
       "  'item_name': 'Counter-Strike: Global Offensive',\n",
       "  'playtime_forever': 9373,\n",
       "  'playtime_2weeks': 0},\n",
       " {'item_id': '216390',\n",
       "  'item_name': 'Fallen Enchantress',\n",
       "  'playtime_forever': 2651,\n",
       "  'playtime_2weeks': 0},\n",
       " {'item_id': '205950',\n",
       "  'item_name': 'Jet Set Radio',\n",
       "  'playtime_forever': 46,\n",
       "  'playtime_2weeks': 0},\n",
       " {'item_id': '200710',\n",
       "  'item_name': 'Torchlight II',\n",
       "  'playtime_forever': 1614,\n",
       "  'playtime_2weeks': 0},\n",
       " {'item_id': '205790',\n",
       "  'item_name': 'Dota 2 Test',\n",
       "  'playtime_forever': 0,\n",
       "  'playtime_2weeks': 0},\n",
       " {'item_id': '219640',\n",
       "  'item_name': 'Chivalry: Medieval Warfare',\n",
       "  'playtime_forever': 0,\n",
       "  'playtime_2weeks': 0},\n",
       " {'item_id': '232210',\n",
       "  'item_name': 'Patch testing for Chivalry',\n",
       "  'playtime_forever': 0,\n",
       "  'playtime_2weeks': 0},\n",
       " {'item_id': '4920',\n",
       "  'item_name': 'Natural Selection 2',\n",
       "  'playtime_forever': 125,\n",
       "  'playtime_2weeks': 0},\n",
       " {'item_id': '55230',\n",
       "  'item_name': 'Saints Row: The Third',\n",
       "  'playtime_forever': 2369,\n",
       "  'playtime_2weeks': 0},\n",
       " {'item_id': '202970',\n",
       "  'item_name': 'Call of Duty: Black Ops II',\n",
       "  'playtime_forever': 3,\n",
       "  'playtime_2weeks': 0},\n",
       " {'item_id': '202990',\n",
       "  'item_name': 'Call of Duty: Black Ops II - Multiplayer',\n",
       "  'playtime_forever': 1551,\n",
       "  'playtime_2weeks': 0},\n",
       " {'item_id': '212910',\n",
       "  'item_name': 'Call of Duty: Black Ops II - Zombies',\n",
       "  'playtime_forever': 10678,\n",
       "  'playtime_2weeks': 329},\n",
       " {'item_id': '213610',\n",
       "  'item_name': 'Sonic Adventure™ 2 ',\n",
       "  'playtime_forever': 168,\n",
       "  'playtime_2weeks': 0},\n",
       " {'item_id': '102600',\n",
       "  'item_name': 'Orcs Must Die!',\n",
       "  'playtime_forever': 336,\n",
       "  'playtime_2weeks': 0},\n",
       " {'item_id': '201790',\n",
       "  'item_name': 'Orcs Must Die! 2',\n",
       "  'playtime_forever': 3425,\n",
       "  'playtime_2weeks': 0},\n",
       " {'item_id': '224540',\n",
       "  'item_name': 'Ace of Spades',\n",
       "  'playtime_forever': 143,\n",
       "  'playtime_2weeks': 0},\n",
       " {'item_id': '36630',\n",
       "  'item_name': 'Rusty Hearts',\n",
       "  'playtime_forever': 1742,\n",
       "  'playtime_2weeks': 0},\n",
       " {'item_id': '99900',\n",
       "  'item_name': 'Spiral Knights',\n",
       "  'playtime_forever': 1026,\n",
       "  'playtime_2weeks': 0},\n",
       " {'item_id': '102700',\n",
       "  'item_name': 'A.V.A - Alliance of Valiant Arms',\n",
       "  'playtime_forever': 3467,\n",
       "  'playtime_2weeks': 0},\n",
       " {'item_id': '208090',\n",
       "  'item_name': 'Loadout',\n",
       "  'playtime_forever': 2409,\n",
       "  'playtime_2weeks': 0},\n",
       " {'item_id': '230410',\n",
       "  'item_name': 'Warframe',\n",
       "  'playtime_forever': 5781,\n",
       "  'playtime_2weeks': 0},\n",
       " {'item_id': '234310',\n",
       "  'item_name': 'March of War',\n",
       "  'playtime_forever': 3225,\n",
       "  'playtime_2weeks': 0},\n",
       " {'item_id': '243870',\n",
       "  'item_name': \"Tom Clancy's Ghost Recon Phantoms - NA\",\n",
       "  'playtime_forever': 1472,\n",
       "  'playtime_2weeks': 0},\n",
       " {'item_id': '209870',\n",
       "  'item_name': 'Blacklight: Retribution',\n",
       "  'playtime_forever': 5828,\n",
       "  'playtime_2weeks': 0},\n",
       " {'item_id': '271290',\n",
       "  'item_name': 'HAWKEN',\n",
       "  'playtime_forever': 2223,\n",
       "  'playtime_2weeks': 0},\n",
       " {'item_id': '291150',\n",
       "  'item_name': 'Evolution RTS',\n",
       "  'playtime_forever': 153,\n",
       "  'playtime_2weeks': 0},\n",
       " {'item_id': '224260',\n",
       "  'item_name': 'No More Room in Hell',\n",
       "  'playtime_forever': 683,\n",
       "  'playtime_2weeks': 0},\n",
       " {'item_id': '224580',\n",
       "  'item_name': 'Arma 2: DayZ Mod',\n",
       "  'playtime_forever': 13,\n",
       "  'playtime_2weeks': 0},\n",
       " {'item_id': '33900',\n",
       "  'item_name': 'Arma 2',\n",
       "  'playtime_forever': 8,\n",
       "  'playtime_2weeks': 0},\n",
       " {'item_id': '33930',\n",
       "  'item_name': 'Arma 2: Operation Arrowhead',\n",
       "  'playtime_forever': 10,\n",
       "  'playtime_2weeks': 0},\n",
       " {'item_id': '65700',\n",
       "  'item_name': 'Arma 2: British Armed Forces',\n",
       "  'playtime_forever': 0,\n",
       "  'playtime_2weeks': 0},\n",
       " {'item_id': '65720',\n",
       "  'item_name': 'Arma 2: Private Military Company',\n",
       "  'playtime_forever': 0,\n",
       "  'playtime_2weeks': 0},\n",
       " {'item_id': '219540',\n",
       "  'item_name': 'Arma 2: Operation Arrowhead Beta (Obsolete)',\n",
       "  'playtime_forever': 0,\n",
       "  'playtime_2weeks': 0},\n",
       " {'item_id': '227680',\n",
       "  'item_name': 'StarForge',\n",
       "  'playtime_forever': 0,\n",
       "  'playtime_2weeks': 0},\n",
       " {'item_id': '218620',\n",
       "  'item_name': 'PAYDAY 2',\n",
       "  'playtime_forever': 18497,\n",
       "  'playtime_2weeks': 0},\n",
       " {'item_id': '35720',\n",
       "  'item_name': 'Trine 2',\n",
       "  'playtime_forever': 0,\n",
       "  'playtime_2weeks': 0},\n",
       " {'item_id': '91310',\n",
       "  'item_name': 'Dead Island',\n",
       "  'playtime_forever': 858,\n",
       "  'playtime_2weeks': 0},\n",
       " {'item_id': '216250',\n",
       "  'item_name': 'Dead Island Riptide',\n",
       "  'playtime_forever': 985,\n",
       "  'playtime_2weeks': 0},\n",
       " {'item_id': '206420',\n",
       "  'item_name': 'Saints Row IV',\n",
       "  'playtime_forever': 3876,\n",
       "  'playtime_2weeks': 0},\n",
       " {'item_id': '249130',\n",
       "  'item_name': 'LEGO® MARVEL Super Heroes',\n",
       "  'playtime_forever': 1435,\n",
       "  'playtime_2weeks': 0},\n",
       " {'item_id': '239160',\n",
       "  'item_name': 'Thief',\n",
       "  'playtime_forever': 2727,\n",
       "  'playtime_2weeks': 0},\n",
       " {'item_id': '243470',\n",
       "  'item_name': 'Watch_Dogs',\n",
       "  'playtime_forever': 1555,\n",
       "  'playtime_2weeks': 0},\n",
       " {'item_id': '238430',\n",
       "  'item_name': 'Contagion',\n",
       "  'playtime_forever': 278,\n",
       "  'playtime_2weeks': 0},\n",
       " {'item_id': '209160',\n",
       "  'item_name': 'Call of Duty: Ghosts',\n",
       "  'playtime_forever': 423,\n",
       "  'playtime_2weeks': 0},\n",
       " {'item_id': '209170',\n",
       "  'item_name': 'Call of Duty: Ghosts - Multiplayer',\n",
       "  'playtime_forever': 8841,\n",
       "  'playtime_2weeks': 187},\n",
       " {'item_id': '211820',\n",
       "  'item_name': 'Starbound',\n",
       "  'playtime_forever': 853,\n",
       "  'playtime_2weeks': 0},\n",
       " {'item_id': '367540',\n",
       "  'item_name': 'Starbound - Unstable',\n",
       "  'playtime_forever': 0,\n",
       "  'playtime_2weeks': 0},\n",
       " {'item_id': '273110',\n",
       "  'item_name': 'Counter-Strike Nexon: Zombies',\n",
       "  'playtime_forever': 813,\n",
       "  'playtime_2weeks': 0},\n",
       " {'item_id': '222880',\n",
       "  'item_name': 'Insurgency',\n",
       "  'playtime_forever': 13029,\n",
       "  'playtime_2weeks': 0},\n",
       " {'item_id': '222900',\n",
       "  'item_name': 'Dead Island: Epidemic',\n",
       "  'playtime_forever': 591,\n",
       "  'playtime_2weeks': 0},\n",
       " {'item_id': '291480',\n",
       "  'item_name': 'Warface',\n",
       "  'playtime_forever': 19576,\n",
       "  'playtime_2weeks': 216},\n",
       " {'item_id': '238590',\n",
       "  'item_name': 'Loadout Campaign Beta',\n",
       "  'playtime_forever': 506,\n",
       "  'playtime_2weeks': 0},\n",
       " {'item_id': '326960',\n",
       "  'item_name': 'Killing Floor - Toy Master',\n",
       "  'playtime_forever': 0,\n",
       "  'playtime_2weeks': 0},\n",
       " {'item_id': '232090',\n",
       "  'item_name': 'Killing Floor 2',\n",
       "  'playtime_forever': 17364,\n",
       "  'playtime_2weeks': 275},\n",
       " {'item_id': '232150',\n",
       "  'item_name': 'Killing Floor 2 - SDK',\n",
       "  'playtime_forever': 0,\n",
       "  'playtime_2weeks': 0},\n",
       " {'item_id': '369200',\n",
       "  'item_name': 'Ghost in the Shell Stand Alone Complex First Assault Online',\n",
       "  'playtime_forever': 539,\n",
       "  'playtime_2weeks': 0},\n",
       " {'item_id': '444090',\n",
       "  'item_name': 'Paladins',\n",
       "  'playtime_forever': 462,\n",
       "  'playtime_2weeks': 462},\n",
       " {'item_id': '444640',\n",
       "  'item_name': 'Bloons TD Battles',\n",
       "  'playtime_forever': 809,\n",
       "  'playtime_2weeks': 0}]"
      ]
     },
     "execution_count": 25,
     "metadata": {},
     "output_type": "execute_result"
    }
   ],
   "source": [
    "# Observamos el contenido para la fila 10\n",
    "df_User_Items['items'][10]\n"
   ]
  },
  {
   "cell_type": "code",
   "execution_count": 31,
   "metadata": {},
   "outputs": [],
   "source": [
    "# Demora en ejecutar (3 minutos aprox.)\n",
    "# Convierte los datos JSON de la columna 'items' en un DataFrame plano excepto las columnas 'user_id','items_count','steam_id' y 'user_url'\n",
    "df_User_Items = pd.json_normalize(records, record_path=['items'], meta=['user_id','items_count','steam_id','user_url'])"
   ]
  },
  {
   "cell_type": "code",
   "execution_count": 35,
   "metadata": {},
   "outputs": [],
   "source": [
    "df_user_items = df_User_Items.copy()"
   ]
  },
  {
   "cell_type": "code",
   "execution_count": 36,
   "metadata": {},
   "outputs": [
    {
     "data": {
      "text/html": [
       "<div>\n",
       "<style scoped>\n",
       "    .dataframe tbody tr th:only-of-type {\n",
       "        vertical-align: middle;\n",
       "    }\n",
       "\n",
       "    .dataframe tbody tr th {\n",
       "        vertical-align: top;\n",
       "    }\n",
       "\n",
       "    .dataframe thead th {\n",
       "        text-align: right;\n",
       "    }\n",
       "</style>\n",
       "<table border=\"1\" class=\"dataframe\">\n",
       "  <thead>\n",
       "    <tr style=\"text-align: right;\">\n",
       "      <th></th>\n",
       "      <th>item_id</th>\n",
       "      <th>item_name</th>\n",
       "      <th>playtime_forever</th>\n",
       "      <th>playtime_2weeks</th>\n",
       "      <th>user_id</th>\n",
       "      <th>items_count</th>\n",
       "      <th>steam_id</th>\n",
       "      <th>user_url</th>\n",
       "    </tr>\n",
       "  </thead>\n",
       "  <tbody>\n",
       "    <tr>\n",
       "      <th>0</th>\n",
       "      <td>10</td>\n",
       "      <td>Counter-Strike</td>\n",
       "      <td>6</td>\n",
       "      <td>0</td>\n",
       "      <td>76561197970982479</td>\n",
       "      <td>277</td>\n",
       "      <td>76561197970982479</td>\n",
       "      <td>http://steamcommunity.com/profiles/76561197970...</td>\n",
       "    </tr>\n",
       "    <tr>\n",
       "      <th>1</th>\n",
       "      <td>20</td>\n",
       "      <td>Team Fortress Classic</td>\n",
       "      <td>0</td>\n",
       "      <td>0</td>\n",
       "      <td>76561197970982479</td>\n",
       "      <td>277</td>\n",
       "      <td>76561197970982479</td>\n",
       "      <td>http://steamcommunity.com/profiles/76561197970...</td>\n",
       "    </tr>\n",
       "    <tr>\n",
       "      <th>2</th>\n",
       "      <td>30</td>\n",
       "      <td>Day of Defeat</td>\n",
       "      <td>7</td>\n",
       "      <td>0</td>\n",
       "      <td>76561197970982479</td>\n",
       "      <td>277</td>\n",
       "      <td>76561197970982479</td>\n",
       "      <td>http://steamcommunity.com/profiles/76561197970...</td>\n",
       "    </tr>\n",
       "    <tr>\n",
       "      <th>3</th>\n",
       "      <td>40</td>\n",
       "      <td>Deathmatch Classic</td>\n",
       "      <td>0</td>\n",
       "      <td>0</td>\n",
       "      <td>76561197970982479</td>\n",
       "      <td>277</td>\n",
       "      <td>76561197970982479</td>\n",
       "      <td>http://steamcommunity.com/profiles/76561197970...</td>\n",
       "    </tr>\n",
       "    <tr>\n",
       "      <th>4</th>\n",
       "      <td>50</td>\n",
       "      <td>Half-Life: Opposing Force</td>\n",
       "      <td>0</td>\n",
       "      <td>0</td>\n",
       "      <td>76561197970982479</td>\n",
       "      <td>277</td>\n",
       "      <td>76561197970982479</td>\n",
       "      <td>http://steamcommunity.com/profiles/76561197970...</td>\n",
       "    </tr>\n",
       "  </tbody>\n",
       "</table>\n",
       "</div>"
      ],
      "text/plain": [
       "  item_id                  item_name  playtime_forever  playtime_2weeks  \\\n",
       "0      10             Counter-Strike                 6                0   \n",
       "1      20      Team Fortress Classic                 0                0   \n",
       "2      30              Day of Defeat                 7                0   \n",
       "3      40         Deathmatch Classic                 0                0   \n",
       "4      50  Half-Life: Opposing Force                 0                0   \n",
       "\n",
       "             user_id items_count           steam_id  \\\n",
       "0  76561197970982479         277  76561197970982479   \n",
       "1  76561197970982479         277  76561197970982479   \n",
       "2  76561197970982479         277  76561197970982479   \n",
       "3  76561197970982479         277  76561197970982479   \n",
       "4  76561197970982479         277  76561197970982479   \n",
       "\n",
       "                                            user_url  \n",
       "0  http://steamcommunity.com/profiles/76561197970...  \n",
       "1  http://steamcommunity.com/profiles/76561197970...  \n",
       "2  http://steamcommunity.com/profiles/76561197970...  \n",
       "3  http://steamcommunity.com/profiles/76561197970...  \n",
       "4  http://steamcommunity.com/profiles/76561197970...  "
      ]
     },
     "execution_count": 36,
     "metadata": {},
     "output_type": "execute_result"
    }
   ],
   "source": [
    "df_user_items.head()"
   ]
  },
  {
   "cell_type": "code",
   "execution_count": 37,
   "metadata": {},
   "outputs": [
    {
     "data": {
      "text/plain": [
       "(5153209, 8)"
      ]
     },
     "execution_count": 37,
     "metadata": {},
     "output_type": "execute_result"
    }
   ],
   "source": [
    "df_user_items.shape"
   ]
  },
  {
   "cell_type": "markdown",
   "metadata": {},
   "source": [
    "Visualizaremos los datos de las nuevas columnas para saber qué tipo de información contienen. Para lo cual utilizaremos el método **unique()**, este método se aplica a la columna seleccionada y devuelve un array que contiene los valores únicos presentes en esa columna."
   ]
  },
  {
   "cell_type": "code",
   "execution_count": 38,
   "metadata": {},
   "outputs": [
    {
     "data": {
      "text/plain": [
       "Index(['item_id', 'item_name', 'playtime_forever', 'playtime_2weeks',\n",
       "       'user_id', 'items_count', 'steam_id', 'user_url'],\n",
       "      dtype='object')"
      ]
     },
     "execution_count": 38,
     "metadata": {},
     "output_type": "execute_result"
    }
   ],
   "source": [
    "df_user_items.columns "
   ]
  },
  {
   "cell_type": "code",
   "execution_count": 39,
   "metadata": {},
   "outputs": [
    {
     "data": {
      "text/plain": [
       "array(['10', '20', '30', ..., '354280', '433920', '485270'], dtype=object)"
      ]
     },
     "execution_count": 39,
     "metadata": {},
     "output_type": "execute_result"
    }
   ],
   "source": [
    "df_user_items['item_id'].unique()"
   ]
  },
  {
   "cell_type": "code",
   "execution_count": 40,
   "metadata": {},
   "outputs": [
    {
     "data": {
      "text/plain": [
       "array(['Counter-Strike', 'Team Fortress Classic', 'Day of Defeat', ...,\n",
       "       'ChaosTower', 'Aveyond 4: Shadow Of The Mist', 'Arachnophobia'],\n",
       "      dtype=object)"
      ]
     },
     "execution_count": 40,
     "metadata": {},
     "output_type": "execute_result"
    }
   ],
   "source": [
    "df_user_items['item_name'].unique()"
   ]
  },
  {
   "cell_type": "code",
   "execution_count": 41,
   "metadata": {},
   "outputs": [
    {
     "data": {
      "text/plain": [
       "array([     6,      0,      7, ...,  42740, 121694,  34753], dtype=int64)"
      ]
     },
     "execution_count": 41,
     "metadata": {},
     "output_type": "execute_result"
    }
   ],
   "source": [
    "df_user_items['playtime_forever'].unique()"
   ]
  },
  {
   "cell_type": "code",
   "execution_count": 42,
   "metadata": {},
   "outputs": [
    {
     "data": {
      "text/plain": [
       "array([   0,  166,   67, ..., 2145, 2925, 3046], dtype=int64)"
      ]
     },
     "execution_count": 42,
     "metadata": {},
     "output_type": "execute_result"
    }
   ],
   "source": [
    "df_user_items['playtime_2weeks'].unique()"
   ]
  },
  {
   "cell_type": "markdown",
   "metadata": {},
   "source": [
    "Luego de explorar los valores que contiene las nuevas columnas, se entiende lo siguiente.\n",
    "\n",
    "Columnas del dataframe **df_user_items**:\n",
    "\n",
    "* user_id: Identificador único del usuario\n",
    "* items_count: Cantidad de items  \n",
    "* steam_id: Identificador único \n",
    "* user_url: El url del perfil del usuario\n",
    "    * item_id: Identificador único del 'item'\n",
    "    * item_name: Nombre del 'item' \n",
    "    * playtime_forever: Cuantifica el tiempo de juego en minutos\n",
    "    * playtime_2weeks: Se puede especular que cuantifica el tiempo de juego en minutos cada dos semanas."
   ]
  },
  {
   "cell_type": "code",
   "execution_count": 43,
   "metadata": {},
   "outputs": [
    {
     "name": "stdout",
     "output_type": "stream",
     "text": [
      "<class 'pandas.core.frame.DataFrame'>\n",
      "RangeIndex: 5153209 entries, 0 to 5153208\n",
      "Data columns (total 8 columns):\n",
      " #   Column            Dtype \n",
      "---  ------            ----- \n",
      " 0   item_id           object\n",
      " 1   item_name         object\n",
      " 2   playtime_forever  int64 \n",
      " 3   playtime_2weeks   int64 \n",
      " 4   user_id           object\n",
      " 5   items_count       object\n",
      " 6   steam_id          object\n",
      " 7   user_url          object\n",
      "dtypes: int64(2), object(6)\n",
      "memory usage: 314.5+ MB\n"
     ]
    }
   ],
   "source": [
    "df_user_items.info()"
   ]
  },
  {
   "cell_type": "markdown",
   "metadata": {},
   "source": [
    "Ahora que ya conocemos qué información nos muestra las columnas del dataframe continuaremos con la limpieza y el preprocesamiento. El objetivo es tener lista la data para cualquier proceso analítico que se realice posteriormente."
   ]
  },
  {
   "cell_type": "code",
   "execution_count": 44,
   "metadata": {},
   "outputs": [],
   "source": [
    "# En este punto, creamos una copia del dataframe como respaldo para no ejecutar todo \n",
    "df_UserItem = df_user_items.copy()\n",
    "#df_UserReviews = df_UserRev.copy()"
   ]
  },
  {
   "cell_type": "markdown",
   "metadata": {},
   "source": [
    "LIMPIEZA Y PREPROCESAMIENTO DE LOS DATOS"
   ]
  },
  {
   "cell_type": "markdown",
   "metadata": {},
   "source": [
    "#### 2.1 Identificar y tratar datos nulos"
   ]
  },
  {
   "cell_type": "markdown",
   "metadata": {},
   "source": [
    "Primero identificamos cuántos datos tienen '', 'null' o 'None' entre sus datos:"
   ]
  },
  {
   "cell_type": "code",
   "execution_count": 48,
   "metadata": {},
   "outputs": [
    {
     "name": "stdout",
     "output_type": "stream",
     "text": [
      "Cantidad de valores blanco ('') en todo el DataFrame: 0\n",
      "Cantidad de valores nulos en todo el DataFrame: 0\n",
      "Cantidad de valores 'None' en todo el DataFrame: 0\n"
     ]
    }
   ],
   "source": [
    "total_blanco = (df_UserItem == '').sum().sum()\n",
    "# Mostrar los resultados\n",
    "print(\"Cantidad de valores blanco ('') en todo el DataFrame:\", total_blanco)\n",
    "\n",
    "total_nulos = (df_UserItem == 'null').sum().sum()\n",
    "# Mostrar los resultados\n",
    "print(\"Cantidad de valores nulos en todo el DataFrame:\", total_nulos)\n",
    "\n",
    "total_vacios = (df_UserItem == 'None').sum().sum()\n",
    "# Mostrar los resultados\n",
    "print(\"Cantidad de valores 'None' en todo el DataFrame:\", total_vacios)"
   ]
  },
  {
   "cell_type": "code",
   "execution_count": 50,
   "metadata": {},
   "outputs": [
    {
     "data": {
      "text/plain": [
       "item_id             0\n",
       "item_name           0\n",
       "playtime_forever    0\n",
       "playtime_2weeks     0\n",
       "user_id             0\n",
       "items_count         0\n",
       "steam_id            0\n",
       "user_url            0\n",
       "dtype: int64"
      ]
     },
     "execution_count": 50,
     "metadata": {},
     "output_type": "execute_result"
    }
   ],
   "source": [
    "# Verifica nulos en el dataframe\n",
    "df_UserItem.isnull().sum()"
   ]
  },
  {
   "cell_type": "markdown",
   "metadata": {},
   "source": [
    "No se identificaron valores faltantes"
   ]
  },
  {
   "cell_type": "markdown",
   "metadata": {},
   "source": [
    "#### 2.2 Identificar filas duplicadas"
   ]
  },
  {
   "cell_type": "code",
   "execution_count": 45,
   "metadata": {},
   "outputs": [
    {
     "name": "stdout",
     "output_type": "stream",
     "text": [
      "Filas duplicadas:\n"
     ]
    },
    {
     "data": {
      "text/html": [
       "<div>\n",
       "<style scoped>\n",
       "    .dataframe tbody tr th:only-of-type {\n",
       "        vertical-align: middle;\n",
       "    }\n",
       "\n",
       "    .dataframe tbody tr th {\n",
       "        vertical-align: top;\n",
       "    }\n",
       "\n",
       "    .dataframe thead th {\n",
       "        text-align: right;\n",
       "    }\n",
       "</style>\n",
       "<table border=\"1\" class=\"dataframe\">\n",
       "  <thead>\n",
       "    <tr style=\"text-align: right;\">\n",
       "      <th></th>\n",
       "      <th>item_id</th>\n",
       "      <th>item_name</th>\n",
       "      <th>playtime_forever</th>\n",
       "      <th>playtime_2weeks</th>\n",
       "      <th>user_id</th>\n",
       "      <th>items_count</th>\n",
       "      <th>steam_id</th>\n",
       "      <th>user_url</th>\n",
       "    </tr>\n",
       "  </thead>\n",
       "  <tbody>\n",
       "    <tr>\n",
       "      <th>4344</th>\n",
       "      <td>4000</td>\n",
       "      <td>Garry's Mod</td>\n",
       "      <td>269</td>\n",
       "      <td>0</td>\n",
       "      <td>76561198156664158</td>\n",
       "      <td>59</td>\n",
       "      <td>76561198156664158</td>\n",
       "      <td>http://steamcommunity.com/profiles/76561198156...</td>\n",
       "    </tr>\n",
       "    <tr>\n",
       "      <th>4345</th>\n",
       "      <td>33910</td>\n",
       "      <td>Arma 2</td>\n",
       "      <td>162</td>\n",
       "      <td>0</td>\n",
       "      <td>76561198156664158</td>\n",
       "      <td>59</td>\n",
       "      <td>76561198156664158</td>\n",
       "      <td>http://steamcommunity.com/profiles/76561198156...</td>\n",
       "    </tr>\n",
       "    <tr>\n",
       "      <th>4346</th>\n",
       "      <td>33930</td>\n",
       "      <td>Arma 2: Operation Arrowhead</td>\n",
       "      <td>223</td>\n",
       "      <td>0</td>\n",
       "      <td>76561198156664158</td>\n",
       "      <td>59</td>\n",
       "      <td>76561198156664158</td>\n",
       "      <td>http://steamcommunity.com/profiles/76561198156...</td>\n",
       "    </tr>\n",
       "    <tr>\n",
       "      <th>4347</th>\n",
       "      <td>219540</td>\n",
       "      <td>Arma 2: Operation Arrowhead Beta (Obsolete)</td>\n",
       "      <td>0</td>\n",
       "      <td>0</td>\n",
       "      <td>76561198156664158</td>\n",
       "      <td>59</td>\n",
       "      <td>76561198156664158</td>\n",
       "      <td>http://steamcommunity.com/profiles/76561198156...</td>\n",
       "    </tr>\n",
       "    <tr>\n",
       "      <th>4348</th>\n",
       "      <td>400</td>\n",
       "      <td>Portal</td>\n",
       "      <td>196</td>\n",
       "      <td>0</td>\n",
       "      <td>76561198156664158</td>\n",
       "      <td>59</td>\n",
       "      <td>76561198156664158</td>\n",
       "      <td>http://steamcommunity.com/profiles/76561198156...</td>\n",
       "    </tr>\n",
       "    <tr>\n",
       "      <th>...</th>\n",
       "      <td>...</td>\n",
       "      <td>...</td>\n",
       "      <td>...</td>\n",
       "      <td>...</td>\n",
       "      <td>...</td>\n",
       "      <td>...</td>\n",
       "      <td>...</td>\n",
       "      <td>...</td>\n",
       "    </tr>\n",
       "    <tr>\n",
       "      <th>4898223</th>\n",
       "      <td>213670</td>\n",
       "      <td>South Park™: The Stick of Truth™</td>\n",
       "      <td>725</td>\n",
       "      <td>0</td>\n",
       "      <td>76561198080057659</td>\n",
       "      <td>39</td>\n",
       "      <td>76561198080057659</td>\n",
       "      <td>http://steamcommunity.com/profiles/76561198080...</td>\n",
       "    </tr>\n",
       "    <tr>\n",
       "      <th>4898224</th>\n",
       "      <td>221910</td>\n",
       "      <td>The Stanley Parable</td>\n",
       "      <td>53</td>\n",
       "      <td>0</td>\n",
       "      <td>76561198080057659</td>\n",
       "      <td>39</td>\n",
       "      <td>76561198080057659</td>\n",
       "      <td>http://steamcommunity.com/profiles/76561198080...</td>\n",
       "    </tr>\n",
       "    <tr>\n",
       "      <th>4898225</th>\n",
       "      <td>261030</td>\n",
       "      <td>The Walking Dead: Season Two</td>\n",
       "      <td>253</td>\n",
       "      <td>0</td>\n",
       "      <td>76561198080057659</td>\n",
       "      <td>39</td>\n",
       "      <td>76561198080057659</td>\n",
       "      <td>http://steamcommunity.com/profiles/76561198080...</td>\n",
       "    </tr>\n",
       "    <tr>\n",
       "      <th>4898226</th>\n",
       "      <td>273110</td>\n",
       "      <td>Counter-Strike Nexon: Zombies</td>\n",
       "      <td>0</td>\n",
       "      <td>0</td>\n",
       "      <td>76561198080057659</td>\n",
       "      <td>39</td>\n",
       "      <td>76561198080057659</td>\n",
       "      <td>http://steamcommunity.com/profiles/76561198080...</td>\n",
       "    </tr>\n",
       "    <tr>\n",
       "      <th>4898227</th>\n",
       "      <td>730</td>\n",
       "      <td>Counter-Strike: Global Offensive</td>\n",
       "      <td>0</td>\n",
       "      <td>0</td>\n",
       "      <td>76561198080057659</td>\n",
       "      <td>39</td>\n",
       "      <td>76561198080057659</td>\n",
       "      <td>http://steamcommunity.com/profiles/76561198080...</td>\n",
       "    </tr>\n",
       "  </tbody>\n",
       "</table>\n",
       "<p>117731 rows × 8 columns</p>\n",
       "</div>"
      ],
      "text/plain": [
       "        item_id                                    item_name  \\\n",
       "4344       4000                                  Garry's Mod   \n",
       "4345      33910                                       Arma 2   \n",
       "4346      33930                  Arma 2: Operation Arrowhead   \n",
       "4347     219540  Arma 2: Operation Arrowhead Beta (Obsolete)   \n",
       "4348        400                                       Portal   \n",
       "...         ...                                          ...   \n",
       "4898223  213670             South Park™: The Stick of Truth™   \n",
       "4898224  221910                          The Stanley Parable   \n",
       "4898225  261030                 The Walking Dead: Season Two   \n",
       "4898226  273110                Counter-Strike Nexon: Zombies   \n",
       "4898227     730             Counter-Strike: Global Offensive   \n",
       "\n",
       "         playtime_forever  playtime_2weeks            user_id items_count  \\\n",
       "4344                  269                0  76561198156664158          59   \n",
       "4345                  162                0  76561198156664158          59   \n",
       "4346                  223                0  76561198156664158          59   \n",
       "4347                    0                0  76561198156664158          59   \n",
       "4348                  196                0  76561198156664158          59   \n",
       "...                   ...              ...                ...         ...   \n",
       "4898223               725                0  76561198080057659          39   \n",
       "4898224                53                0  76561198080057659          39   \n",
       "4898225               253                0  76561198080057659          39   \n",
       "4898226                 0                0  76561198080057659          39   \n",
       "4898227                 0                0  76561198080057659          39   \n",
       "\n",
       "                  steam_id                                           user_url  \n",
       "4344     76561198156664158  http://steamcommunity.com/profiles/76561198156...  \n",
       "4345     76561198156664158  http://steamcommunity.com/profiles/76561198156...  \n",
       "4346     76561198156664158  http://steamcommunity.com/profiles/76561198156...  \n",
       "4347     76561198156664158  http://steamcommunity.com/profiles/76561198156...  \n",
       "4348     76561198156664158  http://steamcommunity.com/profiles/76561198156...  \n",
       "...                    ...                                                ...  \n",
       "4898223  76561198080057659  http://steamcommunity.com/profiles/76561198080...  \n",
       "4898224  76561198080057659  http://steamcommunity.com/profiles/76561198080...  \n",
       "4898225  76561198080057659  http://steamcommunity.com/profiles/76561198080...  \n",
       "4898226  76561198080057659  http://steamcommunity.com/profiles/76561198080...  \n",
       "4898227  76561198080057659  http://steamcommunity.com/profiles/76561198080...  \n",
       "\n",
       "[117731 rows x 8 columns]"
      ]
     },
     "execution_count": 45,
     "metadata": {},
     "output_type": "execute_result"
    }
   ],
   "source": [
    "# Selecciona las filas duplicadas en el DataFrame\n",
    "duplicados = df_UserItem[df_UserItem.duplicated(keep=False)] #keep=False significa que todas las instancias duplicadas (tanto la primera como las subsiguientes) se marcarán como duplicadas\n",
    "\n",
    "# Cuenta el número total de filas duplicadas\n",
    "num_duplicados = duplicados.shape[0]\n",
    "\n",
    "# Muestra las filas duplicadas junto con las originales\n",
    "print(\"Filas duplicadas:\")\n",
    "duplicados"
   ]
  },
  {
   "cell_type": "markdown",
   "metadata": {},
   "source": [
    "Se procede con la eliminación de las filas duplicadas, los duplicados pueden causar inconsistencia en nuestros datos, eliminarlos asegura que utilicemos datos válidos antes de la carga en el contexto de ETL."
   ]
  },
  {
   "cell_type": "code",
   "execution_count": 51,
   "metadata": {},
   "outputs": [
    {
     "name": "stdout",
     "output_type": "stream",
     "text": [
      "Número de filas antes de eliminar duplicados: 5153209\n",
      "Número de filas después de eliminar duplicados: 5094105\n"
     ]
    }
   ],
   "source": [
    "# Elimina las filas duplicadas y actualiza el DataFrame\n",
    "df_UserItems_without_duplicates = df_UserItem.drop_duplicates(keep='first')\n",
    "\n",
    "# Mostrar información sobre la eliminación de duplicados\n",
    "print(\"Número de filas antes de eliminar duplicados:\", df_UserItem.shape[0])\n",
    "print(\"Número de filas después de eliminar duplicados:\", df_UserItems_without_duplicates.shape[0])\n"
   ]
  },
  {
   "cell_type": "markdown",
   "metadata": {},
   "source": [
    "Comprobamos que no haya filas duplicadas"
   ]
  },
  {
   "cell_type": "code",
   "execution_count": 52,
   "metadata": {},
   "outputs": [
    {
     "name": "stdout",
     "output_type": "stream",
     "text": [
      "Cantidad de filas duplicadas: 0\n"
     ]
    }
   ],
   "source": [
    "# Selecciona las filas duplicadas en el DataFrame\n",
    "dupli = df_UserItems_without_duplicates[df_UserItems_without_duplicates.duplicated(keep=False)] #keep=False significa que todas las instancias duplicadas (tanto la primera como las subsiguientes) se marcarán como duplicadas\n",
    "\n",
    "# Cuenta el número total de filas duplicadas\n",
    "num_duplicated = dupli.shape[0]\n",
    "\n",
    "# Muestra las filas duplicadas junto con las originales\n",
    "print(\"Cantidad de filas duplicadas:\", num_duplicated)"
   ]
  },
  {
   "cell_type": "code",
   "execution_count": 53,
   "metadata": {},
   "outputs": [],
   "source": [
    "# Cambiamos de nombre el dataframe a 'df_UserItems'\n",
    "df_UserItems = df_UserItems_without_duplicates.copy() #(5094105, 8)"
   ]
  },
  {
   "cell_type": "code",
   "execution_count": 56,
   "metadata": {},
   "outputs": [
    {
     "data": {
      "text/plain": [
       "Index(['item_id', 'item_name', 'playtime_forever', 'playtime_2weeks',\n",
       "       'user_id', 'items_count', 'steam_id', 'user_url'],\n",
       "      dtype='object')"
      ]
     },
     "execution_count": 56,
     "metadata": {},
     "output_type": "execute_result"
    }
   ],
   "source": [
    "df_UserItems.columns"
   ]
  },
  {
   "cell_type": "markdown",
   "metadata": {},
   "source": [
    "#### 2.3 Columnas necesarias"
   ]
  },
  {
   "cell_type": "markdown",
   "metadata": {},
   "source": [
    "Una variable importante para nuestro posterior análisis son las 'Horas jugadas'. Vamos a crear la columna 'Hours_played' a partir de la columna 'playtime_forever' pasandolo a horas."
   ]
  },
  {
   "cell_type": "code",
   "execution_count": 69,
   "metadata": {},
   "outputs": [],
   "source": [
    "# Convertimos de minutos a horas, se asigna a la variable 'Hours_played'\n",
    "df_UserItems['Hours_played'] = df_UserItems['playtime_forever'] / 60\n",
    "\n",
    "# Redondea los valores a tres decimales\n",
    "df_UserItems['Hours_played'] = df_UserItems['Hours_played'].round(3)"
   ]
  },
  {
   "cell_type": "code",
   "execution_count": 71,
   "metadata": {},
   "outputs": [
    {
     "data": {
      "text/html": [
       "<div>\n",
       "<style scoped>\n",
       "    .dataframe tbody tr th:only-of-type {\n",
       "        vertical-align: middle;\n",
       "    }\n",
       "\n",
       "    .dataframe tbody tr th {\n",
       "        vertical-align: top;\n",
       "    }\n",
       "\n",
       "    .dataframe thead th {\n",
       "        text-align: right;\n",
       "    }\n",
       "</style>\n",
       "<table border=\"1\" class=\"dataframe\">\n",
       "  <thead>\n",
       "    <tr style=\"text-align: right;\">\n",
       "      <th></th>\n",
       "      <th>item_id</th>\n",
       "      <th>item_name</th>\n",
       "      <th>playtime_forever</th>\n",
       "      <th>playtime_2weeks</th>\n",
       "      <th>user_id</th>\n",
       "      <th>items_count</th>\n",
       "      <th>steam_id</th>\n",
       "      <th>user_url</th>\n",
       "      <th>Hours_played</th>\n",
       "    </tr>\n",
       "  </thead>\n",
       "  <tbody>\n",
       "    <tr>\n",
       "      <th>0</th>\n",
       "      <td>10</td>\n",
       "      <td>Counter-Strike</td>\n",
       "      <td>6</td>\n",
       "      <td>0</td>\n",
       "      <td>76561197970982479</td>\n",
       "      <td>277</td>\n",
       "      <td>76561197970982479</td>\n",
       "      <td>http://steamcommunity.com/profiles/76561197970...</td>\n",
       "      <td>0.100</td>\n",
       "    </tr>\n",
       "    <tr>\n",
       "      <th>1</th>\n",
       "      <td>20</td>\n",
       "      <td>Team Fortress Classic</td>\n",
       "      <td>0</td>\n",
       "      <td>0</td>\n",
       "      <td>76561197970982479</td>\n",
       "      <td>277</td>\n",
       "      <td>76561197970982479</td>\n",
       "      <td>http://steamcommunity.com/profiles/76561197970...</td>\n",
       "      <td>0.000</td>\n",
       "    </tr>\n",
       "    <tr>\n",
       "      <th>2</th>\n",
       "      <td>30</td>\n",
       "      <td>Day of Defeat</td>\n",
       "      <td>7</td>\n",
       "      <td>0</td>\n",
       "      <td>76561197970982479</td>\n",
       "      <td>277</td>\n",
       "      <td>76561197970982479</td>\n",
       "      <td>http://steamcommunity.com/profiles/76561197970...</td>\n",
       "      <td>0.117</td>\n",
       "    </tr>\n",
       "    <tr>\n",
       "      <th>3</th>\n",
       "      <td>40</td>\n",
       "      <td>Deathmatch Classic</td>\n",
       "      <td>0</td>\n",
       "      <td>0</td>\n",
       "      <td>76561197970982479</td>\n",
       "      <td>277</td>\n",
       "      <td>76561197970982479</td>\n",
       "      <td>http://steamcommunity.com/profiles/76561197970...</td>\n",
       "      <td>0.000</td>\n",
       "    </tr>\n",
       "    <tr>\n",
       "      <th>4</th>\n",
       "      <td>50</td>\n",
       "      <td>Half-Life: Opposing Force</td>\n",
       "      <td>0</td>\n",
       "      <td>0</td>\n",
       "      <td>76561197970982479</td>\n",
       "      <td>277</td>\n",
       "      <td>76561197970982479</td>\n",
       "      <td>http://steamcommunity.com/profiles/76561197970...</td>\n",
       "      <td>0.000</td>\n",
       "    </tr>\n",
       "  </tbody>\n",
       "</table>\n",
       "</div>"
      ],
      "text/plain": [
       "  item_id                  item_name  playtime_forever  playtime_2weeks  \\\n",
       "0      10             Counter-Strike                 6                0   \n",
       "1      20      Team Fortress Classic                 0                0   \n",
       "2      30              Day of Defeat                 7                0   \n",
       "3      40         Deathmatch Classic                 0                0   \n",
       "4      50  Half-Life: Opposing Force                 0                0   \n",
       "\n",
       "             user_id items_count           steam_id  \\\n",
       "0  76561197970982479         277  76561197970982479   \n",
       "1  76561197970982479         277  76561197970982479   \n",
       "2  76561197970982479         277  76561197970982479   \n",
       "3  76561197970982479         277  76561197970982479   \n",
       "4  76561197970982479         277  76561197970982479   \n",
       "\n",
       "                                            user_url  Hours_played  \n",
       "0  http://steamcommunity.com/profiles/76561197970...         0.100  \n",
       "1  http://steamcommunity.com/profiles/76561197970...         0.000  \n",
       "2  http://steamcommunity.com/profiles/76561197970...         0.117  \n",
       "3  http://steamcommunity.com/profiles/76561197970...         0.000  \n",
       "4  http://steamcommunity.com/profiles/76561197970...         0.000  "
      ]
     },
     "execution_count": 71,
     "metadata": {},
     "output_type": "execute_result"
    }
   ],
   "source": [
    "df_UserItems.head()"
   ]
  },
  {
   "cell_type": "code",
   "execution_count": 70,
   "metadata": {},
   "outputs": [
    {
     "data": {
      "text/plain": [
       "Hours_played\n",
       "0.000       1847730\n",
       "0.017        101586\n",
       "0.033         34391\n",
       "0.050         31530\n",
       "0.067         29127\n",
       "             ...   \n",
       "1275.683          1\n",
       "1077.933          1\n",
       "888.800           1\n",
       "733.817           1\n",
       "579.217           1\n",
       "Name: count, Length: 48861, dtype: int64"
      ]
     },
     "execution_count": 70,
     "metadata": {},
     "output_type": "execute_result"
    }
   ],
   "source": [
    "df_UserItems['Hours_played'].value_counts()"
   ]
  },
  {
   "cell_type": "markdown",
   "metadata": {},
   "source": [
    "Se observa una gran cantidad de datos (1847730) con cerca de 0 horas de juego, para no sobrecargar la base final se eliminarán estos registros. Además, los análisis posteriores se centran en la *mayor cantidad de horas jugadas* por lo que se procederá con esta decisión de eliminar los registros con 'Hours_played' igual a cero.  "
   ]
  },
  {
   "cell_type": "code",
   "execution_count": 72,
   "metadata": {},
   "outputs": [],
   "source": [
    "# Filtrar las filas donde 'Hours_played' es diferente de cero\n",
    "df_UserItems = df_UserItems[df_UserItems['Hours_played'] != 0]\n",
    "\n",
    "# Opcional: Restablecer el índice del DataFrame después de filtrar\n",
    "df_UserItems = df_UserItems.reset_index(drop=True)\n"
   ]
  },
  {
   "cell_type": "code",
   "execution_count": 75,
   "metadata": {},
   "outputs": [
    {
     "data": {
      "text/plain": [
       "(3246375, 9)"
      ]
     },
     "execution_count": 75,
     "metadata": {},
     "output_type": "execute_result"
    }
   ],
   "source": [
    "df_UserItems.shape"
   ]
  },
  {
   "cell_type": "markdown",
   "metadata": {},
   "source": [
    "#### 2.4 Evaluar columnas a eliminar"
   ]
  },
  {
   "cell_type": "code",
   "execution_count": 79,
   "metadata": {},
   "outputs": [
    {
     "data": {
      "text/plain": [
       "Index(['item_id', 'item_name', 'user_id', 'Hours_played'], dtype='object')"
      ]
     },
     "execution_count": 79,
     "metadata": {},
     "output_type": "execute_result"
    }
   ],
   "source": [
    "# Se elimina las columnas que no contribuyen a nuestro posterior análisis\n",
    "df_UserItems = df_UserItems.drop(['items_count','steam_id','user_url','playtime_forever','playtime_2weeks'], axis=1)\n",
    "df_UserItems.columns"
   ]
  },
  {
   "cell_type": "code",
   "execution_count": 80,
   "metadata": {},
   "outputs": [
    {
     "data": {
      "text/html": [
       "<div>\n",
       "<style scoped>\n",
       "    .dataframe tbody tr th:only-of-type {\n",
       "        vertical-align: middle;\n",
       "    }\n",
       "\n",
       "    .dataframe tbody tr th {\n",
       "        vertical-align: top;\n",
       "    }\n",
       "\n",
       "    .dataframe thead th {\n",
       "        text-align: right;\n",
       "    }\n",
       "</style>\n",
       "<table border=\"1\" class=\"dataframe\">\n",
       "  <thead>\n",
       "    <tr style=\"text-align: right;\">\n",
       "      <th></th>\n",
       "      <th>item_id</th>\n",
       "      <th>item_name</th>\n",
       "      <th>user_id</th>\n",
       "      <th>Hours_played</th>\n",
       "    </tr>\n",
       "  </thead>\n",
       "  <tbody>\n",
       "    <tr>\n",
       "      <th>0</th>\n",
       "      <td>10</td>\n",
       "      <td>Counter-Strike</td>\n",
       "      <td>76561197970982479</td>\n",
       "      <td>0.100</td>\n",
       "    </tr>\n",
       "    <tr>\n",
       "      <th>1</th>\n",
       "      <td>30</td>\n",
       "      <td>Day of Defeat</td>\n",
       "      <td>76561197970982479</td>\n",
       "      <td>0.117</td>\n",
       "    </tr>\n",
       "    <tr>\n",
       "      <th>2</th>\n",
       "      <td>300</td>\n",
       "      <td>Day of Defeat: Source</td>\n",
       "      <td>76561197970982479</td>\n",
       "      <td>78.883</td>\n",
       "    </tr>\n",
       "    <tr>\n",
       "      <th>3</th>\n",
       "      <td>240</td>\n",
       "      <td>Counter-Strike: Source</td>\n",
       "      <td>76561197970982479</td>\n",
       "      <td>30.883</td>\n",
       "    </tr>\n",
       "    <tr>\n",
       "      <th>4</th>\n",
       "      <td>3830</td>\n",
       "      <td>Psychonauts</td>\n",
       "      <td>76561197970982479</td>\n",
       "      <td>5.550</td>\n",
       "    </tr>\n",
       "    <tr>\n",
       "      <th>...</th>\n",
       "      <td>...</td>\n",
       "      <td>...</td>\n",
       "      <td>...</td>\n",
       "      <td>...</td>\n",
       "    </tr>\n",
       "    <tr>\n",
       "      <th>3246370</th>\n",
       "      <td>304930</td>\n",
       "      <td>Unturned</td>\n",
       "      <td>76561198329548331</td>\n",
       "      <td>11.283</td>\n",
       "    </tr>\n",
       "    <tr>\n",
       "      <th>3246371</th>\n",
       "      <td>227940</td>\n",
       "      <td>Heroes &amp; Generals</td>\n",
       "      <td>76561198329548331</td>\n",
       "      <td>0.717</td>\n",
       "    </tr>\n",
       "    <tr>\n",
       "      <th>3246372</th>\n",
       "      <td>388490</td>\n",
       "      <td>One Way To Die: Steam Edition</td>\n",
       "      <td>76561198329548331</td>\n",
       "      <td>0.050</td>\n",
       "    </tr>\n",
       "    <tr>\n",
       "      <th>3246373</th>\n",
       "      <td>521570</td>\n",
       "      <td>You Have 10 Seconds 2</td>\n",
       "      <td>76561198329548331</td>\n",
       "      <td>0.067</td>\n",
       "    </tr>\n",
       "    <tr>\n",
       "      <th>3246374</th>\n",
       "      <td>519140</td>\n",
       "      <td>Minds Eyes</td>\n",
       "      <td>76561198329548331</td>\n",
       "      <td>0.050</td>\n",
       "    </tr>\n",
       "  </tbody>\n",
       "</table>\n",
       "<p>3246375 rows × 4 columns</p>\n",
       "</div>"
      ],
      "text/plain": [
       "        item_id                      item_name            user_id  \\\n",
       "0            10                 Counter-Strike  76561197970982479   \n",
       "1            30                  Day of Defeat  76561197970982479   \n",
       "2           300          Day of Defeat: Source  76561197970982479   \n",
       "3           240         Counter-Strike: Source  76561197970982479   \n",
       "4          3830                    Psychonauts  76561197970982479   \n",
       "...         ...                            ...                ...   \n",
       "3246370  304930                       Unturned  76561198329548331   \n",
       "3246371  227940              Heroes & Generals  76561198329548331   \n",
       "3246372  388490  One Way To Die: Steam Edition  76561198329548331   \n",
       "3246373  521570          You Have 10 Seconds 2  76561198329548331   \n",
       "3246374  519140                     Minds Eyes  76561198329548331   \n",
       "\n",
       "         Hours_played  \n",
       "0               0.100  \n",
       "1               0.117  \n",
       "2              78.883  \n",
       "3              30.883  \n",
       "4               5.550  \n",
       "...               ...  \n",
       "3246370        11.283  \n",
       "3246371         0.717  \n",
       "3246372         0.050  \n",
       "3246373         0.067  \n",
       "3246374         0.050  \n",
       "\n",
       "[3246375 rows x 4 columns]"
      ]
     },
     "execution_count": 80,
     "metadata": {},
     "output_type": "execute_result"
    }
   ],
   "source": [
    "df_UserItems"
   ]
  },
  {
   "cell_type": "markdown",
   "metadata": {},
   "source": [
    "### 3. Cargar"
   ]
  },
  {
   "cell_type": "markdown",
   "metadata": {},
   "source": [
    "En este paso se guarda los datos transformados en un formato csv y listos para su posterior análisis o uso."
   ]
  },
  {
   "cell_type": "code",
   "execution_count": 81,
   "metadata": {},
   "outputs": [],
   "source": [
    "# Los archivos se almacenan en local \n",
    "df_UserItems.to_csv('user_items_final.csv', index=False)"
   ]
  },
  {
   "cell_type": "markdown",
   "metadata": {},
   "source": [
    "Opcional"
   ]
  },
  {
   "cell_type": "code",
   "execution_count": 83,
   "metadata": {},
   "outputs": [],
   "source": [
    "# Menor uso de espacio de almacenamiento en comparación con CSV, especialmente para conjuntos de datos grandes.\n",
    "df_UserItems.to_parquet('user_items_final.parquet', index=False)"
   ]
  }
 ],
 "metadata": {
  "kernelspec": {
   "display_name": "Python 3",
   "language": "python",
   "name": "python3"
  },
  "language_info": {
   "codemirror_mode": {
    "name": "ipython",
    "version": 3
   },
   "file_extension": ".py",
   "mimetype": "text/x-python",
   "name": "python",
   "nbconvert_exporter": "python",
   "pygments_lexer": "ipython3",
   "version": "3.12.1"
  }
 },
 "nbformat": 4,
 "nbformat_minor": 2
}
