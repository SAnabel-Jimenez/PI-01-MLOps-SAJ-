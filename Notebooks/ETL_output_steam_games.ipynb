{
 "cells": [
  {
   "cell_type": "markdown",
   "metadata": {},
   "source": [
    "## Extracción, Tratamiento y Carga de datos (ETL)\n",
    "\n",
    "### Objetivo\n",
    "\n",
    "El objetivo de este notebook es realizar un proceso de ETL del archivo JSON \"output_steam_games\". Como primer paso de la Ingeniería de datos, los datos se prepararán y limpiarán para su posterior análisis.\n",
    "\n",
    "### Archivo de Datos: output_steam_games\n",
    "\n",
    "El archivo \"output_steam_games\" contiene información sobre los contenidos de los juegos jugados por los usuarios de la plataforma STEAM (plataforma multinacional de videojuegos). \n",
    "La información que nos muestra es: 'publisher', 'genres', 'app_name', 'title', 'url', 'release_date', 'tags', 'reviews_url', 'specs', 'price', 'early_access', 'id' y 'developer'.\n",
    "\n",
    "El detalle de los datos se encuentran en el siguiente [LINK](https://docs.google.com/spreadsheets/d/1y2FbOU9jsJbJkdmBLC7Lr3u576yENh0Z/edit?usp=sharing&ouid=100343940744383618882&rtpof=true&sd=true) con el diccionario de datos del dataset."
   ]
  },
  {
   "cell_type": "markdown",
   "metadata": {},
   "source": [
    "### 1. Carga de datos"
   ]
  },
  {
   "cell_type": "markdown",
   "metadata": {},
   "source": [
    "Librerías"
   ]
  },
  {
   "cell_type": "code",
   "execution_count": 2,
   "metadata": {},
   "outputs": [],
   "source": [
    "import pandas as pd\n",
    "import numpy as np\n",
    "import json"
   ]
  },
  {
   "cell_type": "markdown",
   "metadata": {},
   "source": [
    "Cargamos el archivo JSON. El archivo se llama \"output_steam_games\" el cual se utilizará en adelante y se encuentra en el siguiente [link](https://drive.google.com/drive/folders/1PvMb8F0veZYFmmcZytfVBNvmfzi6Rwl9?usp=sharing)."
   ]
  },
  {
   "cell_type": "markdown",
   "metadata": {},
   "source": [
    "Se tiene múltiples objetos JSON cada uno en diferentes líneas en el archivo 'output_steam_games'"
   ]
  },
  {
   "cell_type": "code",
   "execution_count": 3,
   "metadata": {},
   "outputs": [],
   "source": [
    "# Abre el archivo como dataframe\n",
    "df = pd.read_json('output_steam_games.json', lines=True) # lines=True will read each line as a separate JSON object\n"
   ]
  },
  {
   "cell_type": "code",
   "execution_count": 4,
   "metadata": {},
   "outputs": [
    {
     "name": "stdout",
     "output_type": "stream",
     "text": [
      "El DataFrame tiene 120445 filas y 13 columnas.\n"
     ]
    }
   ],
   "source": [
    "print(f\"El DataFrame tiene {df.shape[0]} filas y {df.shape[1]} columnas.\")\n"
   ]
  },
  {
   "cell_type": "code",
   "execution_count": 5,
   "metadata": {},
   "outputs": [],
   "source": [
    "df_steam_games=df.copy()"
   ]
  },
  {
   "cell_type": "markdown",
   "metadata": {},
   "source": [
    "### 2. Exploramos el Dataframe"
   ]
  },
  {
   "cell_type": "code",
   "execution_count": 6,
   "metadata": {},
   "outputs": [
    {
     "name": "stdout",
     "output_type": "stream",
     "text": [
      "<class 'pandas.core.frame.DataFrame'>\n",
      "RangeIndex: 120445 entries, 0 to 120444\n",
      "Data columns (total 13 columns):\n",
      " #   Column        Non-Null Count  Dtype  \n",
      "---  ------        --------------  -----  \n",
      " 0   publisher     24083 non-null  object \n",
      " 1   genres        28852 non-null  object \n",
      " 2   app_name      32133 non-null  object \n",
      " 3   title         30085 non-null  object \n",
      " 4   url           32135 non-null  object \n",
      " 5   release_date  30068 non-null  object \n",
      " 6   tags          31972 non-null  object \n",
      " 7   reviews_url   32133 non-null  object \n",
      " 8   specs         31465 non-null  object \n",
      " 9   price         30758 non-null  object \n",
      " 10  early_access  32135 non-null  float64\n",
      " 11  id            32133 non-null  float64\n",
      " 12  developer     28836 non-null  object \n",
      "dtypes: float64(2), object(11)\n",
      "memory usage: 11.9+ MB\n"
     ]
    }
   ],
   "source": [
    "# Resumen general del dataframe \n",
    "df.info()"
   ]
  },
  {
   "cell_type": "code",
   "execution_count": 5,
   "metadata": {},
   "outputs": [
    {
     "data": {
      "text/html": [
       "<div>\n",
       "<style scoped>\n",
       "    .dataframe tbody tr th:only-of-type {\n",
       "        vertical-align: middle;\n",
       "    }\n",
       "\n",
       "    .dataframe tbody tr th {\n",
       "        vertical-align: top;\n",
       "    }\n",
       "\n",
       "    .dataframe thead th {\n",
       "        text-align: right;\n",
       "    }\n",
       "</style>\n",
       "<table border=\"1\" class=\"dataframe\">\n",
       "  <thead>\n",
       "    <tr style=\"text-align: right;\">\n",
       "      <th></th>\n",
       "      <th>publisher</th>\n",
       "      <th>genres</th>\n",
       "      <th>app_name</th>\n",
       "      <th>title</th>\n",
       "      <th>url</th>\n",
       "      <th>release_date</th>\n",
       "      <th>tags</th>\n",
       "      <th>reviews_url</th>\n",
       "      <th>specs</th>\n",
       "      <th>price</th>\n",
       "      <th>early_access</th>\n",
       "      <th>id</th>\n",
       "      <th>developer</th>\n",
       "    </tr>\n",
       "  </thead>\n",
       "  <tbody>\n",
       "    <tr>\n",
       "      <th>0</th>\n",
       "      <td>None</td>\n",
       "      <td>None</td>\n",
       "      <td>None</td>\n",
       "      <td>None</td>\n",
       "      <td>None</td>\n",
       "      <td>None</td>\n",
       "      <td>None</td>\n",
       "      <td>None</td>\n",
       "      <td>None</td>\n",
       "      <td>None</td>\n",
       "      <td>NaN</td>\n",
       "      <td>NaN</td>\n",
       "      <td>None</td>\n",
       "    </tr>\n",
       "    <tr>\n",
       "      <th>1</th>\n",
       "      <td>None</td>\n",
       "      <td>None</td>\n",
       "      <td>None</td>\n",
       "      <td>None</td>\n",
       "      <td>None</td>\n",
       "      <td>None</td>\n",
       "      <td>None</td>\n",
       "      <td>None</td>\n",
       "      <td>None</td>\n",
       "      <td>None</td>\n",
       "      <td>NaN</td>\n",
       "      <td>NaN</td>\n",
       "      <td>None</td>\n",
       "    </tr>\n",
       "    <tr>\n",
       "      <th>2</th>\n",
       "      <td>None</td>\n",
       "      <td>None</td>\n",
       "      <td>None</td>\n",
       "      <td>None</td>\n",
       "      <td>None</td>\n",
       "      <td>None</td>\n",
       "      <td>None</td>\n",
       "      <td>None</td>\n",
       "      <td>None</td>\n",
       "      <td>None</td>\n",
       "      <td>NaN</td>\n",
       "      <td>NaN</td>\n",
       "      <td>None</td>\n",
       "    </tr>\n",
       "    <tr>\n",
       "      <th>3</th>\n",
       "      <td>None</td>\n",
       "      <td>None</td>\n",
       "      <td>None</td>\n",
       "      <td>None</td>\n",
       "      <td>None</td>\n",
       "      <td>None</td>\n",
       "      <td>None</td>\n",
       "      <td>None</td>\n",
       "      <td>None</td>\n",
       "      <td>None</td>\n",
       "      <td>NaN</td>\n",
       "      <td>NaN</td>\n",
       "      <td>None</td>\n",
       "    </tr>\n",
       "    <tr>\n",
       "      <th>4</th>\n",
       "      <td>None</td>\n",
       "      <td>None</td>\n",
       "      <td>None</td>\n",
       "      <td>None</td>\n",
       "      <td>None</td>\n",
       "      <td>None</td>\n",
       "      <td>None</td>\n",
       "      <td>None</td>\n",
       "      <td>None</td>\n",
       "      <td>None</td>\n",
       "      <td>NaN</td>\n",
       "      <td>NaN</td>\n",
       "      <td>None</td>\n",
       "    </tr>\n",
       "    <tr>\n",
       "      <th>...</th>\n",
       "      <td>...</td>\n",
       "      <td>...</td>\n",
       "      <td>...</td>\n",
       "      <td>...</td>\n",
       "      <td>...</td>\n",
       "      <td>...</td>\n",
       "      <td>...</td>\n",
       "      <td>...</td>\n",
       "      <td>...</td>\n",
       "      <td>...</td>\n",
       "      <td>...</td>\n",
       "      <td>...</td>\n",
       "      <td>...</td>\n",
       "    </tr>\n",
       "    <tr>\n",
       "      <th>120440</th>\n",
       "      <td>Ghost_RUS Games</td>\n",
       "      <td>[Casual, Indie, Simulation, Strategy]</td>\n",
       "      <td>Colony On Mars</td>\n",
       "      <td>Colony On Mars</td>\n",
       "      <td>http://store.steampowered.com/app/773640/Colon...</td>\n",
       "      <td>2018-01-04</td>\n",
       "      <td>[Strategy, Indie, Casual, Simulation]</td>\n",
       "      <td>http://steamcommunity.com/app/773640/reviews/?...</td>\n",
       "      <td>[Single-player, Steam Achievements]</td>\n",
       "      <td>1.99</td>\n",
       "      <td>0.0</td>\n",
       "      <td>773640.0</td>\n",
       "      <td>Nikita \"Ghost_RUS\"</td>\n",
       "    </tr>\n",
       "    <tr>\n",
       "      <th>120441</th>\n",
       "      <td>Sacada</td>\n",
       "      <td>[Casual, Indie, Strategy]</td>\n",
       "      <td>LOGistICAL: South Africa</td>\n",
       "      <td>LOGistICAL: South Africa</td>\n",
       "      <td>http://store.steampowered.com/app/733530/LOGis...</td>\n",
       "      <td>2018-01-04</td>\n",
       "      <td>[Strategy, Indie, Casual]</td>\n",
       "      <td>http://steamcommunity.com/app/733530/reviews/?...</td>\n",
       "      <td>[Single-player, Steam Achievements, Steam Clou...</td>\n",
       "      <td>4.99</td>\n",
       "      <td>0.0</td>\n",
       "      <td>733530.0</td>\n",
       "      <td>Sacada</td>\n",
       "    </tr>\n",
       "    <tr>\n",
       "      <th>120442</th>\n",
       "      <td>Laush Studio</td>\n",
       "      <td>[Indie, Racing, Simulation]</td>\n",
       "      <td>Russian Roads</td>\n",
       "      <td>Russian Roads</td>\n",
       "      <td>http://store.steampowered.com/app/610660/Russi...</td>\n",
       "      <td>2018-01-04</td>\n",
       "      <td>[Indie, Simulation, Racing]</td>\n",
       "      <td>http://steamcommunity.com/app/610660/reviews/?...</td>\n",
       "      <td>[Single-player, Steam Achievements, Steam Trad...</td>\n",
       "      <td>1.99</td>\n",
       "      <td>0.0</td>\n",
       "      <td>610660.0</td>\n",
       "      <td>Laush Dmitriy Sergeevich</td>\n",
       "    </tr>\n",
       "    <tr>\n",
       "      <th>120443</th>\n",
       "      <td>SIXNAILS</td>\n",
       "      <td>[Casual, Indie]</td>\n",
       "      <td>EXIT 2 - Directions</td>\n",
       "      <td>EXIT 2 - Directions</td>\n",
       "      <td>http://store.steampowered.com/app/658870/EXIT_...</td>\n",
       "      <td>2017-09-02</td>\n",
       "      <td>[Indie, Casual, Puzzle, Singleplayer, Atmosphe...</td>\n",
       "      <td>http://steamcommunity.com/app/658870/reviews/?...</td>\n",
       "      <td>[Single-player, Steam Achievements, Steam Cloud]</td>\n",
       "      <td>4.99</td>\n",
       "      <td>0.0</td>\n",
       "      <td>658870.0</td>\n",
       "      <td>xropi,stev3ns</td>\n",
       "    </tr>\n",
       "    <tr>\n",
       "      <th>120444</th>\n",
       "      <td>None</td>\n",
       "      <td>None</td>\n",
       "      <td>Maze Run VR</td>\n",
       "      <td>None</td>\n",
       "      <td>http://store.steampowered.com/app/681550/Maze_...</td>\n",
       "      <td>None</td>\n",
       "      <td>[Early Access, Adventure, Indie, Action, Simul...</td>\n",
       "      <td>http://steamcommunity.com/app/681550/reviews/?...</td>\n",
       "      <td>[Single-player, Stats, Steam Leaderboards, HTC...</td>\n",
       "      <td>4.99</td>\n",
       "      <td>1.0</td>\n",
       "      <td>681550.0</td>\n",
       "      <td>None</td>\n",
       "    </tr>\n",
       "  </tbody>\n",
       "</table>\n",
       "<p>120445 rows × 13 columns</p>\n",
       "</div>"
      ],
      "text/plain": [
       "              publisher                                 genres  \\\n",
       "0                  None                                   None   \n",
       "1                  None                                   None   \n",
       "2                  None                                   None   \n",
       "3                  None                                   None   \n",
       "4                  None                                   None   \n",
       "...                 ...                                    ...   \n",
       "120440  Ghost_RUS Games  [Casual, Indie, Simulation, Strategy]   \n",
       "120441           Sacada              [Casual, Indie, Strategy]   \n",
       "120442     Laush Studio            [Indie, Racing, Simulation]   \n",
       "120443         SIXNAILS                        [Casual, Indie]   \n",
       "120444             None                                   None   \n",
       "\n",
       "                        app_name                     title  \\\n",
       "0                           None                      None   \n",
       "1                           None                      None   \n",
       "2                           None                      None   \n",
       "3                           None                      None   \n",
       "4                           None                      None   \n",
       "...                          ...                       ...   \n",
       "120440            Colony On Mars            Colony On Mars   \n",
       "120441  LOGistICAL: South Africa  LOGistICAL: South Africa   \n",
       "120442             Russian Roads             Russian Roads   \n",
       "120443       EXIT 2 - Directions       EXIT 2 - Directions   \n",
       "120444               Maze Run VR                      None   \n",
       "\n",
       "                                                      url release_date  \\\n",
       "0                                                    None         None   \n",
       "1                                                    None         None   \n",
       "2                                                    None         None   \n",
       "3                                                    None         None   \n",
       "4                                                    None         None   \n",
       "...                                                   ...          ...   \n",
       "120440  http://store.steampowered.com/app/773640/Colon...   2018-01-04   \n",
       "120441  http://store.steampowered.com/app/733530/LOGis...   2018-01-04   \n",
       "120442  http://store.steampowered.com/app/610660/Russi...   2018-01-04   \n",
       "120443  http://store.steampowered.com/app/658870/EXIT_...   2017-09-02   \n",
       "120444  http://store.steampowered.com/app/681550/Maze_...         None   \n",
       "\n",
       "                                                     tags  \\\n",
       "0                                                    None   \n",
       "1                                                    None   \n",
       "2                                                    None   \n",
       "3                                                    None   \n",
       "4                                                    None   \n",
       "...                                                   ...   \n",
       "120440              [Strategy, Indie, Casual, Simulation]   \n",
       "120441                          [Strategy, Indie, Casual]   \n",
       "120442                        [Indie, Simulation, Racing]   \n",
       "120443  [Indie, Casual, Puzzle, Singleplayer, Atmosphe...   \n",
       "120444  [Early Access, Adventure, Indie, Action, Simul...   \n",
       "\n",
       "                                              reviews_url  \\\n",
       "0                                                    None   \n",
       "1                                                    None   \n",
       "2                                                    None   \n",
       "3                                                    None   \n",
       "4                                                    None   \n",
       "...                                                   ...   \n",
       "120440  http://steamcommunity.com/app/773640/reviews/?...   \n",
       "120441  http://steamcommunity.com/app/733530/reviews/?...   \n",
       "120442  http://steamcommunity.com/app/610660/reviews/?...   \n",
       "120443  http://steamcommunity.com/app/658870/reviews/?...   \n",
       "120444  http://steamcommunity.com/app/681550/reviews/?...   \n",
       "\n",
       "                                                    specs price  early_access  \\\n",
       "0                                                    None  None           NaN   \n",
       "1                                                    None  None           NaN   \n",
       "2                                                    None  None           NaN   \n",
       "3                                                    None  None           NaN   \n",
       "4                                                    None  None           NaN   \n",
       "...                                                   ...   ...           ...   \n",
       "120440                [Single-player, Steam Achievements]  1.99           0.0   \n",
       "120441  [Single-player, Steam Achievements, Steam Clou...  4.99           0.0   \n",
       "120442  [Single-player, Steam Achievements, Steam Trad...  1.99           0.0   \n",
       "120443   [Single-player, Steam Achievements, Steam Cloud]  4.99           0.0   \n",
       "120444  [Single-player, Stats, Steam Leaderboards, HTC...  4.99           1.0   \n",
       "\n",
       "              id                 developer  \n",
       "0            NaN                      None  \n",
       "1            NaN                      None  \n",
       "2            NaN                      None  \n",
       "3            NaN                      None  \n",
       "4            NaN                      None  \n",
       "...          ...                       ...  \n",
       "120440  773640.0        Nikita \"Ghost_RUS\"  \n",
       "120441  733530.0                    Sacada  \n",
       "120442  610660.0  Laush Dmitriy Sergeevich  \n",
       "120443  658870.0             xropi,stev3ns  \n",
       "120444  681550.0                      None  \n",
       "\n",
       "[120445 rows x 13 columns]"
      ]
     },
     "execution_count": 5,
     "metadata": {},
     "output_type": "execute_result"
    }
   ],
   "source": [
    "df"
   ]
  },
  {
   "cell_type": "markdown",
   "metadata": {},
   "source": [
    "Del dataframe **df** se tiene lo siguiente:\n",
    "\n",
    "| n° | Variable  | Descripción                                      |\n",
    "|----|-----------|-------------------------------------------------------|\n",
    "|1| publisher   | Empresa publicadora del contenido                |\n",
    "|2| genres  | Género del contenido                         |\n",
    "|3| app_name   | Nombre del contenido |\n",
    "|4| title| Título del contenido|\n",
    "|5| url| URL de publicación del contenido|\n",
    "|6| release_date|Fecha de lanzamiento |\n",
    "|7| tags| Etiquetas de contenido|\n",
    "|8| reviews_url| Precio de descuento| \n",
    "|9 | specs| Especificaciones| \n",
    "|10|  price| Precio de contenido|\n",
    "|11| early_access  | Acceso temprano|\n",
    "|12| id | Identificador único de contenido |\n",
    "|13| developer|Desarrollador | \n",
    "\n",
    "Observamos que hay algunas columnas ('genres', 'tags' y 'specs') que estan presentadas como listas. Deben ser emploradas a más detalle las variables."
   ]
  },
  {
   "cell_type": "markdown",
   "metadata": {},
   "source": [
    "Visualizaremos los datos de las columnas para saber qué tipo de información contienen. Para lo cual utilizaremos el método **unique()**, este método se aplica a la columna seleccionada y devuelve un array que contiene los valores únicos presentes en esa columna."
   ]
  },
  {
   "cell_type": "code",
   "execution_count": 7,
   "metadata": {},
   "outputs": [
    {
     "data": {
      "text/plain": [
       "Index(['publisher', 'genres', 'app_name', 'title', 'url', 'release_date',\n",
       "       'tags', 'reviews_url', 'specs', 'price', 'early_access', 'id',\n",
       "       'developer'],\n",
       "      dtype='object')"
      ]
     },
     "execution_count": 7,
     "metadata": {},
     "output_type": "execute_result"
    }
   ],
   "source": [
    "df.columns # Imprime las columnas del dataframe"
   ]
  },
  {
   "cell_type": "code",
   "execution_count": 8,
   "metadata": {},
   "outputs": [
    {
     "data": {
      "text/plain": [
       "array([None, 'Kotoshiro', 'Making Fun, Inc.', ..., 'OrtiGames/OrtiSoft',\n",
       "       'INGAME', 'Bidoniera Games'], dtype=object)"
      ]
     },
     "execution_count": 8,
     "metadata": {},
     "output_type": "execute_result"
    }
   ],
   "source": [
    "df['publisher'].unique()"
   ]
  },
  {
   "cell_type": "code",
   "execution_count": 9,
   "metadata": {},
   "outputs": [],
   "source": [
    "#df['genres'].unique()"
   ]
  },
  {
   "cell_type": "code",
   "execution_count": 8,
   "metadata": {},
   "outputs": [
    {
     "data": {
      "text/plain": [
       "array([None, 'Lost Summoner Kitty', 'Ironbound', ..., 'Russian Roads',\n",
       "       'EXIT 2 - Directions', 'Maze Run VR'], dtype=object)"
      ]
     },
     "execution_count": 8,
     "metadata": {},
     "output_type": "execute_result"
    }
   ],
   "source": [
    "df['app_name'].unique()"
   ]
  },
  {
   "cell_type": "code",
   "execution_count": 11,
   "metadata": {},
   "outputs": [
    {
     "data": {
      "text/plain": [
       "array([None, 'Lost Summoner Kitty', 'Ironbound', ...,\n",
       "       'LOGistICAL: South Africa', 'Russian Roads', 'EXIT 2 - Directions'],\n",
       "      dtype=object)"
      ]
     },
     "execution_count": 11,
     "metadata": {},
     "output_type": "execute_result"
    }
   ],
   "source": [
    "df['title'].unique()"
   ]
  },
  {
   "cell_type": "code",
   "execution_count": 12,
   "metadata": {},
   "outputs": [],
   "source": [
    "#df['url'].unique()"
   ]
  },
  {
   "cell_type": "code",
   "execution_count": 13,
   "metadata": {},
   "outputs": [
    {
     "data": {
      "text/plain": [
       "array([None, '2018-01-04', '2017-07-24', ..., '2016-11-19',\n",
       "       'January 2018', '2018-10-01'], dtype=object)"
      ]
     },
     "execution_count": 13,
     "metadata": {},
     "output_type": "execute_result"
    }
   ],
   "source": [
    "df['release_date'].unique()"
   ]
  },
  {
   "cell_type": "code",
   "execution_count": 14,
   "metadata": {},
   "outputs": [],
   "source": [
    "#df['tags'].unique()"
   ]
  },
  {
   "cell_type": "code",
   "execution_count": 15,
   "metadata": {},
   "outputs": [],
   "source": [
    "#df['reviews_url'].unique()"
   ]
  },
  {
   "cell_type": "code",
   "execution_count": 16,
   "metadata": {},
   "outputs": [],
   "source": [
    "#df['specs'].unique()"
   ]
  },
  {
   "cell_type": "code",
   "execution_count": 17,
   "metadata": {},
   "outputs": [
    {
     "data": {
      "text/plain": [
       "array([None, 4.99, 'Free To Play', 'Free to Play', 0.99, 2.99, 3.99, 9.99,\n",
       "       18.99, 29.99, 'Free', 10.99, 1.5899999999999999, 14.99, 1.99,\n",
       "       59.99, 8.99, 6.99, 7.99, 39.99, 19.99, 7.49, 12.99, 5.99, 2.49,\n",
       "       15.99, 1.25, 24.99, 17.99, 61.99, 3.49, 11.99, 13.99, 'Free Demo',\n",
       "       'Play for Free!', 34.99, 74.76, 1.49, 32.99, 99.99, 14.95, 69.99,\n",
       "       16.99, 79.99, 49.99, 5.0, 44.99, 13.98, 29.96, 119.99, 109.99,\n",
       "       149.99, 771.71, 'Install Now', 21.99, 89.99,\n",
       "       'Play WARMACHINE: Tactics Demo', 0.98, 139.92, 4.29, 64.99,\n",
       "       'Free Mod', 54.99, 74.99, 'Install Theme', 0.89, 'Third-party',\n",
       "       0.5, 'Play Now', 299.99, 1.29, 3.0, 15.0, 5.49, 23.99, 49.0, 20.99,\n",
       "       10.93, 1.3900000000000001, 'Free HITMAN™ Holiday Pack', 36.99,\n",
       "       4.49, 2.0, 4.0, 9.0, 234.99, 1.9500000000000002, 1.5, 199.0, 189.0,\n",
       "       6.66, 27.99, 10.49, 129.99, 179.0, 26.99, 399.99, 31.99, 399.0,\n",
       "       20.0, 40.0, 3.33, 199.99, 22.99, 320.0, 38.85, 71.7, 59.95, 995.0,\n",
       "       27.49, 3.39, 6.0, 19.95, 499.99, 16.06, 4.68, 131.4, 44.98, 202.76,\n",
       "       1.0, 2.3, 0.9500000000000001, 172.24, 249.99, 2.9699999999999998,\n",
       "       10.96, 10.0, 30.0, 2.66, 6.48, 19.29, 11.15, 18.9, 2.89,\n",
       "       'Play the Demo', 99.0, 87.94, 599.0, 8.98, 9.69, 0.49, 9.98, 9.95,\n",
       "       7.0, 'Starting at $499.00', 'Starting at $449.00', 12.89, 6.49,\n",
       "       1.87, 42.99, 41.99, 289.99, 'Free to Try', 23.96, 5.65, 12.0,\n",
       "       13.37, 189.96, 124.99, 'Free Movie', 19.98, 160.91, 'Free to Use'],\n",
       "      dtype=object)"
      ]
     },
     "execution_count": 17,
     "metadata": {},
     "output_type": "execute_result"
    }
   ],
   "source": [
    "df['price'].unique()"
   ]
  },
  {
   "cell_type": "code",
   "execution_count": 18,
   "metadata": {},
   "outputs": [
    {
     "data": {
      "text/plain": [
       "array([nan,  0.,  1.])"
      ]
     },
     "execution_count": 18,
     "metadata": {},
     "output_type": "execute_result"
    }
   ],
   "source": [
    "df['early_access'].unique()"
   ]
  },
  {
   "cell_type": "code",
   "execution_count": 9,
   "metadata": {},
   "outputs": [
    {
     "data": {
      "text/plain": [
       "array([    nan, 761140., 643980., ..., 610660., 658870., 681550.])"
      ]
     },
     "execution_count": 9,
     "metadata": {},
     "output_type": "execute_result"
    }
   ],
   "source": [
    "df['id'].unique()"
   ]
  },
  {
   "cell_type": "code",
   "execution_count": 20,
   "metadata": {},
   "outputs": [
    {
     "data": {
      "text/plain": [
       "array([None, 'Kotoshiro', 'Secret Level SRL', ...,\n",
       "       'Oscar Ortigueira López,OrtiGames/OrtiSoft', 'INGAME',\n",
       "       'Bidoniera Games'], dtype=object)"
      ]
     },
     "execution_count": 20,
     "metadata": {},
     "output_type": "execute_result"
    }
   ],
   "source": [
    "df['developer'].unique()"
   ]
  },
  {
   "cell_type": "markdown",
   "metadata": {},
   "source": [
    "Luego de ver los valores que contienen las columnas del dataframe tenemos que las columnas tienen valores vacíos o nulos que deben tratarse, 'early_access' parece ser un boleano ya que solo tiene de valores 0 y 1. Por otro lado, 'price' podría ser un float ya que indica precio pero tiene también valores string."
   ]
  },
  {
   "cell_type": "markdown",
   "metadata": {},
   "source": [
    "LIMPIEZA Y PREPROCESAMIENTO DE LOS DATOS"
   ]
  },
  {
   "cell_type": "markdown",
   "metadata": {},
   "source": [
    "Evaluaremos si las variables son relevantes o si deben ser eliminadas. Primero, se evaluará los nulos de cada columna."
   ]
  },
  {
   "cell_type": "markdown",
   "metadata": {},
   "source": [
    "#### 2.1 Identificar y tratar datos nulos"
   ]
  },
  {
   "cell_type": "markdown",
   "metadata": {},
   "source": [
    "Primero identificamos cuántos datos tienen '', 'null' o 'None' entre sus datos:"
   ]
  },
  {
   "cell_type": "code",
   "execution_count": 9,
   "metadata": {},
   "outputs": [
    {
     "name": "stdout",
     "output_type": "stream",
     "text": [
      "Cantidad de valores blanco ('') en todo el DataFrame: 0\n",
      "Cantidad de valores nulos en todo el DataFrame: 0\n",
      "Cantidad de valores 'None' en todo el DataFrame: 9\n",
      "Cantidad de valores 'null o NaN' en todo el DataFrame: 1168997\n"
     ]
    }
   ],
   "source": [
    "total_blanco = (df == '').sum().sum()\n",
    "# Mostrar los resultados\n",
    "print(\"Cantidad de valores blanco ('') en todo el DataFrame:\", total_blanco)\n",
    "\n",
    "total_nulos = (df == 'null').sum().sum()\n",
    "# Mostrar los resultados\n",
    "print(\"Cantidad de valores nulos en todo el DataFrame:\", total_nulos)\n",
    "\n",
    "total_vacios = (df == 'None').sum().sum()\n",
    "# Mostrar los resultados\n",
    "print(\"Cantidad de valores 'None' en todo el DataFrame:\", total_vacios)\n",
    "\n",
    "total_faltantes = (df.isnull().sum()).sum()\n",
    "# Mostrar los resultados\n",
    "print(\"Cantidad de valores 'null o NaN' en todo el DataFrame:\", total_faltantes)"
   ]
  },
  {
   "cell_type": "markdown",
   "metadata": {},
   "source": [
    "Ahora que ya los identificamos, los reemplazamos por nan"
   ]
  },
  {
   "cell_type": "markdown",
   "metadata": {},
   "source": [
    "Para crear consistencia de los datos y facilitar su manejo reemplazamos los valores vacios y/o nulos por NaN, de esta forma mantenemos la integridad de los datos al representarlos de una forma estándar."
   ]
  },
  {
   "cell_type": "code",
   "execution_count": 10,
   "metadata": {},
   "outputs": [],
   "source": [
    "df.replace(['', 'null', 'None'], np.nan, inplace=True)"
   ]
  },
  {
   "cell_type": "code",
   "execution_count": 11,
   "metadata": {},
   "outputs": [
    {
     "name": "stdout",
     "output_type": "stream",
     "text": [
      "Total nulos: 1169006\n"
     ]
    },
    {
     "data": {
      "text/plain": [
       "publisher       96371\n",
       "genres          91593\n",
       "app_name        88312\n",
       "title           90360\n",
       "url             88310\n",
       "release_date    90377\n",
       "tags            88473\n",
       "reviews_url     88312\n",
       "specs           88980\n",
       "price           89687\n",
       "early_access    88310\n",
       "id              88312\n",
       "developer       91609\n",
       "dtype: int64"
      ]
     },
     "execution_count": 11,
     "metadata": {},
     "output_type": "execute_result"
    }
   ],
   "source": [
    "# Verifica nulos en el dataframe\n",
    "print(\"Total nulos:\",(df.isnull().sum()).sum())\n",
    "df.isnull().sum()"
   ]
  },
  {
   "cell_type": "markdown",
   "metadata": {},
   "source": [
    "#### 2.2. Evaluar columnas a eliminar y tratamiento de nulos"
   ]
  },
  {
   "cell_type": "markdown",
   "metadata": {},
   "source": [
    "Veamos cuánto representan los datos nulos de nuestro dataframe en cada columna"
   ]
  },
  {
   "cell_type": "code",
   "execution_count": 12,
   "metadata": {},
   "outputs": [
    {
     "data": {
      "text/plain": [
       "publisher       80.01\n",
       "genres          76.05\n",
       "app_name        73.32\n",
       "title           75.02\n",
       "url             73.32\n",
       "release_date    75.04\n",
       "tags            73.46\n",
       "reviews_url     73.32\n",
       "specs           73.88\n",
       "price           74.46\n",
       "early_access    73.32\n",
       "id              73.32\n",
       "developer       76.06\n",
       "dtype: float64"
      ]
     },
     "execution_count": 12,
     "metadata": {},
     "output_type": "execute_result"
    }
   ],
   "source": [
    "porcentaje_nulos_por_variable = (df.isnull().mean() * 100).round(2)\n",
    "porcentaje_nulos_por_variable"
   ]
  },
  {
   "cell_type": "markdown",
   "metadata": {},
   "source": [
    "Todas las variables tienen valores similares de nulos, podrían ser posibles variables a eliminar. En este caso debido a la cantidad de nulos que presenta por columna es posible que hayan filas con solo valores nulos, evaluaremos lo siguiente a continuación."
   ]
  },
  {
   "cell_type": "code",
   "execution_count": 13,
   "metadata": {},
   "outputs": [
    {
     "data": {
      "text/html": [
       "<div>\n",
       "<style scoped>\n",
       "    .dataframe tbody tr th:only-of-type {\n",
       "        vertical-align: middle;\n",
       "    }\n",
       "\n",
       "    .dataframe tbody tr th {\n",
       "        vertical-align: top;\n",
       "    }\n",
       "\n",
       "    .dataframe thead th {\n",
       "        text-align: right;\n",
       "    }\n",
       "</style>\n",
       "<table border=\"1\" class=\"dataframe\">\n",
       "  <thead>\n",
       "    <tr style=\"text-align: right;\">\n",
       "      <th></th>\n",
       "      <th>publisher</th>\n",
       "      <th>genres</th>\n",
       "      <th>app_name</th>\n",
       "      <th>title</th>\n",
       "      <th>url</th>\n",
       "      <th>release_date</th>\n",
       "      <th>tags</th>\n",
       "      <th>reviews_url</th>\n",
       "      <th>specs</th>\n",
       "      <th>price</th>\n",
       "      <th>early_access</th>\n",
       "      <th>id</th>\n",
       "      <th>developer</th>\n",
       "    </tr>\n",
       "  </thead>\n",
       "  <tbody>\n",
       "    <tr>\n",
       "      <th>0</th>\n",
       "      <td>None</td>\n",
       "      <td>None</td>\n",
       "      <td>None</td>\n",
       "      <td>None</td>\n",
       "      <td>None</td>\n",
       "      <td>None</td>\n",
       "      <td>None</td>\n",
       "      <td>None</td>\n",
       "      <td>None</td>\n",
       "      <td>None</td>\n",
       "      <td>NaN</td>\n",
       "      <td>NaN</td>\n",
       "      <td>None</td>\n",
       "    </tr>\n",
       "    <tr>\n",
       "      <th>1</th>\n",
       "      <td>None</td>\n",
       "      <td>None</td>\n",
       "      <td>None</td>\n",
       "      <td>None</td>\n",
       "      <td>None</td>\n",
       "      <td>None</td>\n",
       "      <td>None</td>\n",
       "      <td>None</td>\n",
       "      <td>None</td>\n",
       "      <td>None</td>\n",
       "      <td>NaN</td>\n",
       "      <td>NaN</td>\n",
       "      <td>None</td>\n",
       "    </tr>\n",
       "    <tr>\n",
       "      <th>2</th>\n",
       "      <td>None</td>\n",
       "      <td>None</td>\n",
       "      <td>None</td>\n",
       "      <td>None</td>\n",
       "      <td>None</td>\n",
       "      <td>None</td>\n",
       "      <td>None</td>\n",
       "      <td>None</td>\n",
       "      <td>None</td>\n",
       "      <td>None</td>\n",
       "      <td>NaN</td>\n",
       "      <td>NaN</td>\n",
       "      <td>None</td>\n",
       "    </tr>\n",
       "    <tr>\n",
       "      <th>3</th>\n",
       "      <td>None</td>\n",
       "      <td>None</td>\n",
       "      <td>None</td>\n",
       "      <td>None</td>\n",
       "      <td>None</td>\n",
       "      <td>None</td>\n",
       "      <td>None</td>\n",
       "      <td>None</td>\n",
       "      <td>None</td>\n",
       "      <td>None</td>\n",
       "      <td>NaN</td>\n",
       "      <td>NaN</td>\n",
       "      <td>None</td>\n",
       "    </tr>\n",
       "    <tr>\n",
       "      <th>4</th>\n",
       "      <td>None</td>\n",
       "      <td>None</td>\n",
       "      <td>None</td>\n",
       "      <td>None</td>\n",
       "      <td>None</td>\n",
       "      <td>None</td>\n",
       "      <td>None</td>\n",
       "      <td>None</td>\n",
       "      <td>None</td>\n",
       "      <td>None</td>\n",
       "      <td>NaN</td>\n",
       "      <td>NaN</td>\n",
       "      <td>None</td>\n",
       "    </tr>\n",
       "    <tr>\n",
       "      <th>...</th>\n",
       "      <td>...</td>\n",
       "      <td>...</td>\n",
       "      <td>...</td>\n",
       "      <td>...</td>\n",
       "      <td>...</td>\n",
       "      <td>...</td>\n",
       "      <td>...</td>\n",
       "      <td>...</td>\n",
       "      <td>...</td>\n",
       "      <td>...</td>\n",
       "      <td>...</td>\n",
       "      <td>...</td>\n",
       "      <td>...</td>\n",
       "    </tr>\n",
       "    <tr>\n",
       "      <th>88305</th>\n",
       "      <td>None</td>\n",
       "      <td>None</td>\n",
       "      <td>None</td>\n",
       "      <td>None</td>\n",
       "      <td>None</td>\n",
       "      <td>None</td>\n",
       "      <td>None</td>\n",
       "      <td>None</td>\n",
       "      <td>None</td>\n",
       "      <td>None</td>\n",
       "      <td>NaN</td>\n",
       "      <td>NaN</td>\n",
       "      <td>None</td>\n",
       "    </tr>\n",
       "    <tr>\n",
       "      <th>88306</th>\n",
       "      <td>None</td>\n",
       "      <td>None</td>\n",
       "      <td>None</td>\n",
       "      <td>None</td>\n",
       "      <td>None</td>\n",
       "      <td>None</td>\n",
       "      <td>None</td>\n",
       "      <td>None</td>\n",
       "      <td>None</td>\n",
       "      <td>None</td>\n",
       "      <td>NaN</td>\n",
       "      <td>NaN</td>\n",
       "      <td>None</td>\n",
       "    </tr>\n",
       "    <tr>\n",
       "      <th>88307</th>\n",
       "      <td>None</td>\n",
       "      <td>None</td>\n",
       "      <td>None</td>\n",
       "      <td>None</td>\n",
       "      <td>None</td>\n",
       "      <td>None</td>\n",
       "      <td>None</td>\n",
       "      <td>None</td>\n",
       "      <td>None</td>\n",
       "      <td>None</td>\n",
       "      <td>NaN</td>\n",
       "      <td>NaN</td>\n",
       "      <td>None</td>\n",
       "    </tr>\n",
       "    <tr>\n",
       "      <th>88308</th>\n",
       "      <td>None</td>\n",
       "      <td>None</td>\n",
       "      <td>None</td>\n",
       "      <td>None</td>\n",
       "      <td>None</td>\n",
       "      <td>None</td>\n",
       "      <td>None</td>\n",
       "      <td>None</td>\n",
       "      <td>None</td>\n",
       "      <td>None</td>\n",
       "      <td>NaN</td>\n",
       "      <td>NaN</td>\n",
       "      <td>None</td>\n",
       "    </tr>\n",
       "    <tr>\n",
       "      <th>88309</th>\n",
       "      <td>None</td>\n",
       "      <td>None</td>\n",
       "      <td>None</td>\n",
       "      <td>None</td>\n",
       "      <td>None</td>\n",
       "      <td>None</td>\n",
       "      <td>None</td>\n",
       "      <td>None</td>\n",
       "      <td>None</td>\n",
       "      <td>None</td>\n",
       "      <td>NaN</td>\n",
       "      <td>NaN</td>\n",
       "      <td>None</td>\n",
       "    </tr>\n",
       "  </tbody>\n",
       "</table>\n",
       "<p>88310 rows × 13 columns</p>\n",
       "</div>"
      ],
      "text/plain": [
       "      publisher genres app_name title   url release_date  tags reviews_url  \\\n",
       "0          None   None     None  None  None         None  None        None   \n",
       "1          None   None     None  None  None         None  None        None   \n",
       "2          None   None     None  None  None         None  None        None   \n",
       "3          None   None     None  None  None         None  None        None   \n",
       "4          None   None     None  None  None         None  None        None   \n",
       "...         ...    ...      ...   ...   ...          ...   ...         ...   \n",
       "88305      None   None     None  None  None         None  None        None   \n",
       "88306      None   None     None  None  None         None  None        None   \n",
       "88307      None   None     None  None  None         None  None        None   \n",
       "88308      None   None     None  None  None         None  None        None   \n",
       "88309      None   None     None  None  None         None  None        None   \n",
       "\n",
       "      specs price  early_access  id developer  \n",
       "0      None  None           NaN NaN      None  \n",
       "1      None  None           NaN NaN      None  \n",
       "2      None  None           NaN NaN      None  \n",
       "3      None  None           NaN NaN      None  \n",
       "4      None  None           NaN NaN      None  \n",
       "...     ...   ...           ...  ..       ...  \n",
       "88305  None  None           NaN NaN      None  \n",
       "88306  None  None           NaN NaN      None  \n",
       "88307  None  None           NaN NaN      None  \n",
       "88308  None  None           NaN NaN      None  \n",
       "88309  None  None           NaN NaN      None  \n",
       "\n",
       "[88310 rows x 13 columns]"
      ]
     },
     "execution_count": 13,
     "metadata": {},
     "output_type": "execute_result"
    }
   ],
   "source": [
    "# Identifica las filas con solo nulos\n",
    "rows_with_all_nulls = df[df.isnull().all(axis=1)]\n",
    "rows_with_all_nulls"
   ]
  },
  {
   "cell_type": "code",
   "execution_count": 14,
   "metadata": {},
   "outputs": [],
   "source": [
    "# Elimina las filas con todos los valores nulos\n",
    "df_cleaned = df.dropna(how='all')"
   ]
  },
  {
   "cell_type": "code",
   "execution_count": 15,
   "metadata": {},
   "outputs": [
    {
     "data": {
      "text/plain": [
       "(32135, 13)"
      ]
     },
     "execution_count": 15,
     "metadata": {},
     "output_type": "execute_result"
    }
   ],
   "source": [
    "df_cleaned.shape"
   ]
  },
  {
   "cell_type": "markdown",
   "metadata": {},
   "source": [
    "Ahora que el dataframe esta más limpio, analizamos los nulos por columna"
   ]
  },
  {
   "cell_type": "code",
   "execution_count": 16,
   "metadata": {},
   "outputs": [
    {
     "name": "stdout",
     "output_type": "stream",
     "text": [
      "Resumen de nulos por columna:\n"
     ]
    },
    {
     "data": {
      "text/html": [
       "<div>\n",
       "<style scoped>\n",
       "    .dataframe tbody tr th:only-of-type {\n",
       "        vertical-align: middle;\n",
       "    }\n",
       "\n",
       "    .dataframe tbody tr th {\n",
       "        vertical-align: top;\n",
       "    }\n",
       "\n",
       "    .dataframe thead th {\n",
       "        text-align: right;\n",
       "    }\n",
       "</style>\n",
       "<table border=\"1\" class=\"dataframe\">\n",
       "  <thead>\n",
       "    <tr style=\"text-align: right;\">\n",
       "      <th></th>\n",
       "      <th>Nulos por Columna</th>\n",
       "      <th>Porcentaje de Nulos</th>\n",
       "    </tr>\n",
       "  </thead>\n",
       "  <tbody>\n",
       "    <tr>\n",
       "      <th>publisher</th>\n",
       "      <td>8061</td>\n",
       "      <td>25.08</td>\n",
       "    </tr>\n",
       "    <tr>\n",
       "      <th>genres</th>\n",
       "      <td>3283</td>\n",
       "      <td>10.22</td>\n",
       "    </tr>\n",
       "    <tr>\n",
       "      <th>app_name</th>\n",
       "      <td>2</td>\n",
       "      <td>0.01</td>\n",
       "    </tr>\n",
       "    <tr>\n",
       "      <th>title</th>\n",
       "      <td>2050</td>\n",
       "      <td>6.38</td>\n",
       "    </tr>\n",
       "    <tr>\n",
       "      <th>url</th>\n",
       "      <td>0</td>\n",
       "      <td>0.00</td>\n",
       "    </tr>\n",
       "    <tr>\n",
       "      <th>release_date</th>\n",
       "      <td>2067</td>\n",
       "      <td>6.43</td>\n",
       "    </tr>\n",
       "    <tr>\n",
       "      <th>tags</th>\n",
       "      <td>163</td>\n",
       "      <td>0.51</td>\n",
       "    </tr>\n",
       "    <tr>\n",
       "      <th>reviews_url</th>\n",
       "      <td>2</td>\n",
       "      <td>0.01</td>\n",
       "    </tr>\n",
       "    <tr>\n",
       "      <th>specs</th>\n",
       "      <td>670</td>\n",
       "      <td>2.08</td>\n",
       "    </tr>\n",
       "    <tr>\n",
       "      <th>price</th>\n",
       "      <td>1377</td>\n",
       "      <td>4.29</td>\n",
       "    </tr>\n",
       "    <tr>\n",
       "      <th>early_access</th>\n",
       "      <td>0</td>\n",
       "      <td>0.00</td>\n",
       "    </tr>\n",
       "    <tr>\n",
       "      <th>id</th>\n",
       "      <td>2</td>\n",
       "      <td>0.01</td>\n",
       "    </tr>\n",
       "    <tr>\n",
       "      <th>developer</th>\n",
       "      <td>3299</td>\n",
       "      <td>10.27</td>\n",
       "    </tr>\n",
       "  </tbody>\n",
       "</table>\n",
       "</div>"
      ],
      "text/plain": [
       "              Nulos por Columna  Porcentaje de Nulos\n",
       "publisher                  8061                25.08\n",
       "genres                     3283                10.22\n",
       "app_name                      2                 0.01\n",
       "title                      2050                 6.38\n",
       "url                           0                 0.00\n",
       "release_date               2067                 6.43\n",
       "tags                        163                 0.51\n",
       "reviews_url                   2                 0.01\n",
       "specs                       670                 2.08\n",
       "price                      1377                 4.29\n",
       "early_access                  0                 0.00\n",
       "id                            2                 0.01\n",
       "developer                  3299                10.27"
      ]
     },
     "execution_count": 16,
     "metadata": {},
     "output_type": "execute_result"
    }
   ],
   "source": [
    "# Verifica nulos en cada columna del DataFrame\n",
    "nulos_por_columna = df_cleaned.isnull().sum()\n",
    "porcentaje_nulos_por_columna = (df_cleaned.isnull().mean() * 100).round(2)\n",
    "\n",
    "# Muestra la cantidad y porcentaje de nulos por columna\n",
    "resultados_nulos = pd.DataFrame({\n",
    "    'Nulos por Columna': nulos_por_columna,\n",
    "    'Porcentaje de Nulos': porcentaje_nulos_por_columna\n",
    "})\n",
    "\n",
    "print(\"Resumen de nulos por columna:\")\n",
    "resultados_nulos\n"
   ]
  },
  {
   "cell_type": "code",
   "execution_count": 27,
   "metadata": {},
   "outputs": [],
   "source": [
    "df_Steam_Games=df_cleaned.copy()"
   ]
  },
  {
   "cell_type": "markdown",
   "metadata": {},
   "source": [
    "* Revisemos la variable 'id'"
   ]
  },
  {
   "cell_type": "code",
   "execution_count": 28,
   "metadata": {},
   "outputs": [
    {
     "data": {
      "text/html": [
       "<div>\n",
       "<style scoped>\n",
       "    .dataframe tbody tr th:only-of-type {\n",
       "        vertical-align: middle;\n",
       "    }\n",
       "\n",
       "    .dataframe tbody tr th {\n",
       "        vertical-align: top;\n",
       "    }\n",
       "\n",
       "    .dataframe thead th {\n",
       "        text-align: right;\n",
       "    }\n",
       "</style>\n",
       "<table border=\"1\" class=\"dataframe\">\n",
       "  <thead>\n",
       "    <tr style=\"text-align: right;\">\n",
       "      <th></th>\n",
       "      <th>publisher</th>\n",
       "      <th>genres</th>\n",
       "      <th>app_name</th>\n",
       "      <th>title</th>\n",
       "      <th>url</th>\n",
       "      <th>release_date</th>\n",
       "      <th>tags</th>\n",
       "      <th>reviews_url</th>\n",
       "      <th>specs</th>\n",
       "      <th>price</th>\n",
       "      <th>early_access</th>\n",
       "      <th>id</th>\n",
       "      <th>developer</th>\n",
       "    </tr>\n",
       "  </thead>\n",
       "  <tbody>\n",
       "    <tr>\n",
       "      <th>88384</th>\n",
       "      <td>None</td>\n",
       "      <td>None</td>\n",
       "      <td>None</td>\n",
       "      <td>None</td>\n",
       "      <td>http://store.steampowered.com/</td>\n",
       "      <td>None</td>\n",
       "      <td>None</td>\n",
       "      <td>None</td>\n",
       "      <td>None</td>\n",
       "      <td>19.99</td>\n",
       "      <td>0.0</td>\n",
       "      <td>NaN</td>\n",
       "      <td>None</td>\n",
       "    </tr>\n",
       "    <tr>\n",
       "      <th>119271</th>\n",
       "      <td>Warner Bros. Interactive Entertainment, Feral ...</td>\n",
       "      <td>[Action, Adventure]</td>\n",
       "      <td>Batman: Arkham City - Game of the Year Edition</td>\n",
       "      <td>Batman: Arkham City - Game of the Year Edition</td>\n",
       "      <td>http://store.steampowered.com/app/200260</td>\n",
       "      <td>2012-09-07</td>\n",
       "      <td>[Action, Open World, Batman, Adventure, Stealt...</td>\n",
       "      <td>None</td>\n",
       "      <td>[Single-player, Steam Achievements, Steam Trad...</td>\n",
       "      <td>19.99</td>\n",
       "      <td>0.0</td>\n",
       "      <td>NaN</td>\n",
       "      <td>Rocksteady Studios,Feral Interactive (Mac)</td>\n",
       "    </tr>\n",
       "  </tbody>\n",
       "</table>\n",
       "</div>"
      ],
      "text/plain": [
       "                                                publisher  \\\n",
       "88384                                                None   \n",
       "119271  Warner Bros. Interactive Entertainment, Feral ...   \n",
       "\n",
       "                     genres                                        app_name  \\\n",
       "88384                  None                                            None   \n",
       "119271  [Action, Adventure]  Batman: Arkham City - Game of the Year Edition   \n",
       "\n",
       "                                                 title  \\\n",
       "88384                                             None   \n",
       "119271  Batman: Arkham City - Game of the Year Edition   \n",
       "\n",
       "                                             url release_date  \\\n",
       "88384             http://store.steampowered.com/         None   \n",
       "119271  http://store.steampowered.com/app/200260   2012-09-07   \n",
       "\n",
       "                                                     tags reviews_url  \\\n",
       "88384                                                None        None   \n",
       "119271  [Action, Open World, Batman, Adventure, Stealt...        None   \n",
       "\n",
       "                                                    specs  price  \\\n",
       "88384                                                None  19.99   \n",
       "119271  [Single-player, Steam Achievements, Steam Trad...  19.99   \n",
       "\n",
       "        early_access  id                                   developer  \n",
       "88384            0.0 NaN                                        None  \n",
       "119271           0.0 NaN  Rocksteady Studios,Feral Interactive (Mac)  "
      ]
     },
     "execution_count": 28,
     "metadata": {},
     "output_type": "execute_result"
    }
   ],
   "source": [
    "# Muestra las filas donde 'id' es nulo\n",
    "filtered_rows = df_Steam_Games[df_Steam_Games['id'].isnull()]\n",
    "filtered_rows"
   ]
  },
  {
   "cell_type": "code",
   "execution_count": 29,
   "metadata": {},
   "outputs": [],
   "source": [
    "# Elimina las filas donde 'id' es nulo, se elimina porque no se encuentrauna manera de imputar los datos daod que son valores únicos, además son pocos datos\n",
    "df_Steam_Games.dropna(subset=['id'], inplace=True)"
   ]
  },
  {
   "cell_type": "markdown",
   "metadata": {},
   "source": [
    "* Revisemos la variable 'release_date'"
   ]
  },
  {
   "cell_type": "markdown",
   "metadata": {},
   "source": [
    "Es necesario tener la información del año para su uso más adelante*. Esta información se encuentra implicitamente dentro de la columna 'release_date'.\n",
    "\n",
    "*Sustento: Información necesaria para la etapa de la creación de funciones para los endpoints de la API."
   ]
  },
  {
   "cell_type": "code",
   "execution_count": 30,
   "metadata": {},
   "outputs": [
    {
     "name": "stdout",
     "output_type": "stream",
     "text": [
      "Filas: 27\n"
     ]
    }
   ],
   "source": [
    "# Los registros como 'coming soon' no nos interesa para el objetivo y el analisis posterior del dataset\n",
    "print(\"Filas:\",df_Steam_Games[df_Steam_Games['release_date'] == 'Coming Soon'].shape[0])\n"
   ]
  },
  {
   "cell_type": "code",
   "execution_count": 31,
   "metadata": {},
   "outputs": [],
   "source": [
    "# ELimina registros 'Coming Soon', 'coming soon', 'SOON™', 'When it's done!'\n",
    "df_Steam_Games = df_Steam_Games[(df_Steam_Games['release_date'].str.lower() != 'coming soon')& (df_Steam_Games['release_date'] != 'SOON™')& (df_Steam_Games['release_date'] != \"When it's done!\")]\n"
   ]
  },
  {
   "cell_type": "code",
   "execution_count": 32,
   "metadata": {},
   "outputs": [],
   "source": [
    "# Extraer el año utilizando expresiones regulares\n",
    "df_Steam_Games['release_year'] = df_Steam_Games['release_date'].str.extract(r'(\\d{4})')\n",
    "\n",
    "# Convertir la columna 'year' a tipo float\n",
    "df_Steam_Games['release_year'] = df_Steam_Games['release_year'].astype(float).astype(pd.Int64Dtype(), errors='ignore')\n"
   ]
  },
  {
   "cell_type": "code",
   "execution_count": 33,
   "metadata": {},
   "outputs": [],
   "source": [
    "# Nos aseguramos que tener años válidos en nuestro conjunto\n",
    "\n",
    "# Filtra las filas donde 'release_year' sea menor o igual a 2023\n",
    "df_Steam_Games = df_Steam_Games.loc[df_Steam_Games['release_year'] <= 2023]"
   ]
  },
  {
   "cell_type": "markdown",
   "metadata": {},
   "source": [
    "**Método de imputación:** Se decide imputar los años faltantes reemplazandolos por la mediana agrupando previamente por id. Se agrupa por 'id' para considerar las fechas actuales y así estimar un valor dentro de ese conjunto de datos que ya se conocen."
   ]
  },
  {
   "cell_type": "markdown",
   "metadata": {},
   "source": [
    "Imputamos valores"
   ]
  },
  {
   "cell_type": "code",
   "execution_count": 35,
   "metadata": {},
   "outputs": [],
   "source": [
    "# Agrupamos por 'id' y reemplazamos los valores NaN con la mediana del grupo\n",
    "df_Steam_Games['release_year'] = df_Steam_Games.groupby('id')['release_year'].transform(lambda x: x.fillna(x.median(skipna=True))) #skipna=true ignora advertencias que se genera por tratar de caluclar la mediana de un conjunto de datos que está vacío o consiste solo en valores NaN. \n",
    "\n",
    "# Redondear y convertir a tipo entero \n",
    "#df_Steam_Games['release_year'] = df_Steam_Games['release_year'].round().astype('Int64', errors='ignore')"
   ]
  },
  {
   "cell_type": "code",
   "execution_count": 39,
   "metadata": {},
   "outputs": [],
   "source": [
    "df_2 = df_Steam_Games.copy()"
   ]
  },
  {
   "cell_type": "markdown",
   "metadata": {},
   "source": [
    "* Revisemos la columna 'publisher' y 'developer', parecen contener la misma información"
   ]
  },
  {
   "cell_type": "markdown",
   "metadata": {},
   "source": [
    "Para nuestros análisis posteriores nos interesa 'developer' o desarrollador, se imputará los datos faltantes en 'developer' con la información de 'publisher', ya que aparentemente - en su mayoría - es la misma información."
   ]
  },
  {
   "cell_type": "code",
   "execution_count": 40,
   "metadata": {},
   "outputs": [
    {
     "data": {
      "text/html": [
       "<div>\n",
       "<style scoped>\n",
       "    .dataframe tbody tr th:only-of-type {\n",
       "        vertical-align: middle;\n",
       "    }\n",
       "\n",
       "    .dataframe tbody tr th {\n",
       "        vertical-align: top;\n",
       "    }\n",
       "\n",
       "    .dataframe thead th {\n",
       "        text-align: right;\n",
       "    }\n",
       "</style>\n",
       "<table border=\"1\" class=\"dataframe\">\n",
       "  <thead>\n",
       "    <tr style=\"text-align: right;\">\n",
       "      <th></th>\n",
       "      <th>publisher</th>\n",
       "      <th>developer</th>\n",
       "    </tr>\n",
       "  </thead>\n",
       "  <tbody>\n",
       "    <tr>\n",
       "      <th>88310</th>\n",
       "      <td>Kotoshiro</td>\n",
       "      <td>Kotoshiro</td>\n",
       "    </tr>\n",
       "    <tr>\n",
       "      <th>88311</th>\n",
       "      <td>Making Fun, Inc.</td>\n",
       "      <td>Secret Level SRL</td>\n",
       "    </tr>\n",
       "    <tr>\n",
       "      <th>88312</th>\n",
       "      <td>Poolians.com</td>\n",
       "      <td>Poolians.com</td>\n",
       "    </tr>\n",
       "    <tr>\n",
       "      <th>88313</th>\n",
       "      <td>彼岸领域</td>\n",
       "      <td>彼岸领域</td>\n",
       "    </tr>\n",
       "    <tr>\n",
       "      <th>88315</th>\n",
       "      <td>Trickjump Games Ltd</td>\n",
       "      <td>Trickjump Games Ltd</td>\n",
       "    </tr>\n",
       "    <tr>\n",
       "      <th>88316</th>\n",
       "      <td>None</td>\n",
       "      <td>Poppermost Productions</td>\n",
       "    </tr>\n",
       "    <tr>\n",
       "      <th>88317</th>\n",
       "      <td>Poppermost Productions</td>\n",
       "      <td>Poppermost Productions</td>\n",
       "    </tr>\n",
       "    <tr>\n",
       "      <th>88318</th>\n",
       "      <td>Poppermost Productions</td>\n",
       "      <td>Poppermost Productions</td>\n",
       "    </tr>\n",
       "    <tr>\n",
       "      <th>88319</th>\n",
       "      <td>RewindApp</td>\n",
       "      <td>RewindApp</td>\n",
       "    </tr>\n",
       "    <tr>\n",
       "      <th>88322</th>\n",
       "      <td>Stegalosaurus Game Development</td>\n",
       "      <td>Stegalosaurus Game Development</td>\n",
       "    </tr>\n",
       "  </tbody>\n",
       "</table>\n",
       "</div>"
      ],
      "text/plain": [
       "                            publisher                       developer\n",
       "88310                       Kotoshiro                       Kotoshiro\n",
       "88311                Making Fun, Inc.                Secret Level SRL\n",
       "88312                    Poolians.com                    Poolians.com\n",
       "88313                            彼岸领域                            彼岸领域\n",
       "88315             Trickjump Games Ltd             Trickjump Games Ltd\n",
       "88316                            None          Poppermost Productions\n",
       "88317          Poppermost Productions          Poppermost Productions\n",
       "88318          Poppermost Productions          Poppermost Productions\n",
       "88319                       RewindApp                       RewindApp\n",
       "88322  Stegalosaurus Game Development  Stegalosaurus Game Development"
      ]
     },
     "execution_count": 40,
     "metadata": {},
     "output_type": "execute_result"
    }
   ],
   "source": [
    "df_Steam_Games[['publisher','developer']].head(10)"
   ]
  },
  {
   "cell_type": "code",
   "execution_count": 41,
   "metadata": {},
   "outputs": [],
   "source": [
    "# Reemplaza los valores faltantes en 'developer' con los de 'publisher'\n",
    "df_Steam_Games['developer'].fillna(df_Steam_Games['publisher'], inplace=True)\n"
   ]
  },
  {
   "cell_type": "markdown",
   "metadata": {},
   "source": [
    "* Revisemos la columna 'price'"
   ]
  },
  {
   "cell_type": "code",
   "execution_count": 42,
   "metadata": {},
   "outputs": [
    {
     "data": {
      "text/plain": [
       "370"
      ]
     },
     "execution_count": 42,
     "metadata": {},
     "output_type": "execute_result"
    }
   ],
   "source": [
    "# Asignamos 0 a los valores 'Free to play' porque no tienen precio\n",
    "(df_Steam_Games['price'] == 'Free To Play').sum()"
   ]
  },
  {
   "cell_type": "code",
   "execution_count": 43,
   "metadata": {},
   "outputs": [],
   "source": [
    "# Reemplaza 'Free To Play' con 0 \n",
    "df_Steam_Games['price'] = df_Steam_Games['price'].replace('Free To Play', 0)"
   ]
  },
  {
   "cell_type": "code",
   "execution_count": 44,
   "metadata": {},
   "outputs": [],
   "source": [
    "# Convierte la columna 'price' a numérica\n",
    "df_Steam_Games['price'] = pd.to_numeric(df_Steam_Games['price'], errors='coerce') # mantiene los valores no numéricos como NaN"
   ]
  },
  {
   "cell_type": "markdown",
   "metadata": {},
   "source": [
    "#### 2.3 Duplicados"
   ]
  },
  {
   "cell_type": "code",
   "execution_count": 46,
   "metadata": {},
   "outputs": [],
   "source": [
    "# creamos una copia del datfarame hasta el momento\n",
    "sd=df_Steam_Games.copy()"
   ]
  },
  {
   "cell_type": "code",
   "execution_count": 57,
   "metadata": {},
   "outputs": [
    {
     "data": {
      "text/html": [
       "<div>\n",
       "<style scoped>\n",
       "    .dataframe tbody tr th:only-of-type {\n",
       "        vertical-align: middle;\n",
       "    }\n",
       "\n",
       "    .dataframe tbody tr th {\n",
       "        vertical-align: top;\n",
       "    }\n",
       "\n",
       "    .dataframe thead th {\n",
       "        text-align: right;\n",
       "    }\n",
       "</style>\n",
       "<table border=\"1\" class=\"dataframe\">\n",
       "  <thead>\n",
       "    <tr style=\"text-align: right;\">\n",
       "      <th></th>\n",
       "      <th>publisher</th>\n",
       "      <th>genres</th>\n",
       "      <th>app_name</th>\n",
       "      <th>title</th>\n",
       "      <th>url</th>\n",
       "      <th>release_date</th>\n",
       "      <th>tags</th>\n",
       "      <th>reviews_url</th>\n",
       "      <th>specs</th>\n",
       "      <th>price</th>\n",
       "      <th>early_access</th>\n",
       "      <th>id</th>\n",
       "      <th>developer</th>\n",
       "      <th>release_year</th>\n",
       "    </tr>\n",
       "  </thead>\n",
       "  <tbody>\n",
       "    <tr>\n",
       "      <th>102204</th>\n",
       "      <td>Bethesda Softworks</td>\n",
       "      <td>[Action]</td>\n",
       "      <td>Wolfenstein II: The New Colossus</td>\n",
       "      <td>Wolfenstein II: The New Colossus</td>\n",
       "      <td>http://store.steampowered.com/app/612880/</td>\n",
       "      <td>2017-10-26</td>\n",
       "      <td>[Action, FPS, Gore, Violent, Alternate History...</td>\n",
       "      <td>http://steamcommunity.com/app/612880/reviews/?...</td>\n",
       "      <td>[Single-player, Steam Achievements, Full contr...</td>\n",
       "      <td>59.99</td>\n",
       "      <td>0.0</td>\n",
       "      <td>612880.0</td>\n",
       "      <td>Machine Games</td>\n",
       "      <td>2017</td>\n",
       "    </tr>\n",
       "    <tr>\n",
       "      <th>102883</th>\n",
       "      <td>Bethesda Softworks</td>\n",
       "      <td>[Action]</td>\n",
       "      <td>Wolfenstein II: The New Colossus</td>\n",
       "      <td>Wolfenstein II: The New Colossus</td>\n",
       "      <td>http://store.steampowered.com/app/612880/Wolfe...</td>\n",
       "      <td>2017-10-26</td>\n",
       "      <td>[Action, FPS, Gore, Violent, Alternate History...</td>\n",
       "      <td>http://steamcommunity.com/app/612880/reviews/?...</td>\n",
       "      <td>[Single-player, Steam Achievements, Full contr...</td>\n",
       "      <td>59.99</td>\n",
       "      <td>0.0</td>\n",
       "      <td>612880.0</td>\n",
       "      <td>Machine Games</td>\n",
       "      <td>2017</td>\n",
       "    </tr>\n",
       "  </tbody>\n",
       "</table>\n",
       "</div>"
      ],
      "text/plain": [
       "                 publisher    genres                          app_name  \\\n",
       "102204  Bethesda Softworks  [Action]  Wolfenstein II: The New Colossus   \n",
       "102883  Bethesda Softworks  [Action]  Wolfenstein II: The New Colossus   \n",
       "\n",
       "                                   title  \\\n",
       "102204  Wolfenstein II: The New Colossus   \n",
       "102883  Wolfenstein II: The New Colossus   \n",
       "\n",
       "                                                      url release_date  \\\n",
       "102204          http://store.steampowered.com/app/612880/   2017-10-26   \n",
       "102883  http://store.steampowered.com/app/612880/Wolfe...   2017-10-26   \n",
       "\n",
       "                                                     tags  \\\n",
       "102204  [Action, FPS, Gore, Violent, Alternate History...   \n",
       "102883  [Action, FPS, Gore, Violent, Alternate History...   \n",
       "\n",
       "                                              reviews_url  \\\n",
       "102204  http://steamcommunity.com/app/612880/reviews/?...   \n",
       "102883  http://steamcommunity.com/app/612880/reviews/?...   \n",
       "\n",
       "                                                    specs  price  \\\n",
       "102204  [Single-player, Steam Achievements, Full contr...  59.99   \n",
       "102883  [Single-player, Steam Achievements, Full contr...  59.99   \n",
       "\n",
       "        early_access        id      developer  release_year  \n",
       "102204           0.0  612880.0  Machine Games          2017  \n",
       "102883           0.0  612880.0  Machine Games          2017  "
      ]
     },
     "execution_count": 57,
     "metadata": {},
     "output_type": "execute_result"
    }
   ],
   "source": [
    "# Busca duplicados en base a las columnas id y release_date\n",
    "df_Steam_Games[df_Steam_Games.duplicated(subset=['id','release_date'], keep=False)]\n"
   ]
  },
  {
   "cell_type": "code",
   "execution_count": 58,
   "metadata": {},
   "outputs": [
    {
     "data": {
      "text/plain": [
       "(29964, 14)"
      ]
     },
     "execution_count": 58,
     "metadata": {},
     "output_type": "execute_result"
    }
   ],
   "source": [
    "# Eliminamos duplicados\n",
    "df_Steam_Games.drop_duplicates(subset=['id','release_date'], keep='first', inplace=True)\n",
    "\n",
    "df_Steam_Games.shape"
   ]
  },
  {
   "cell_type": "markdown",
   "metadata": {},
   "source": [
    "#### 2.3 Columnas necesarias\n"
   ]
  },
  {
   "cell_type": "code",
   "execution_count": 59,
   "metadata": {},
   "outputs": [
    {
     "data": {
      "text/plain": [
       "Index(['publisher', 'genres', 'app_name', 'title', 'url', 'release_date',\n",
       "       'tags', 'reviews_url', 'specs', 'price', 'early_access', 'id',\n",
       "       'developer', 'release_year'],\n",
       "      dtype='object')"
      ]
     },
     "execution_count": 59,
     "metadata": {},
     "output_type": "execute_result"
    }
   ],
   "source": [
    "df_Steam_Games.columns"
   ]
  },
  {
   "cell_type": "code",
   "execution_count": 60,
   "metadata": {},
   "outputs": [
    {
     "data": {
      "text/plain": [
       "Index(['genres', 'app_name', 'tags', 'specs', 'price', 'id', 'developer',\n",
       "       'release_year'],\n",
       "      dtype='object')"
      ]
     },
     "execution_count": 60,
     "metadata": {},
     "output_type": "execute_result"
    }
   ],
   "source": [
    "# Se elimina las columnas que no contribuyen a nuestro posterior análisis\n",
    "df_Steam = df_Steam_Games.drop(['publisher','title','url','release_date','reviews_url','early_access'], axis=1)\n",
    "df_Steam.columns"
   ]
  },
  {
   "cell_type": "markdown",
   "metadata": {},
   "source": [
    "* Verificamos los nulos luego de imputar y/o eliminar valores"
   ]
  },
  {
   "cell_type": "code",
   "execution_count": 61,
   "metadata": {},
   "outputs": [
    {
     "name": "stdout",
     "output_type": "stream",
     "text": [
      "Resumen de nulos por columna:\n"
     ]
    },
    {
     "data": {
      "text/html": [
       "<div>\n",
       "<style scoped>\n",
       "    .dataframe tbody tr th:only-of-type {\n",
       "        vertical-align: middle;\n",
       "    }\n",
       "\n",
       "    .dataframe tbody tr th {\n",
       "        vertical-align: top;\n",
       "    }\n",
       "\n",
       "    .dataframe thead th {\n",
       "        text-align: right;\n",
       "    }\n",
       "</style>\n",
       "<table border=\"1\" class=\"dataframe\">\n",
       "  <thead>\n",
       "    <tr style=\"text-align: right;\">\n",
       "      <th></th>\n",
       "      <th>Nulos por Columna</th>\n",
       "      <th>Porcentaje de Nulos</th>\n",
       "    </tr>\n",
       "  </thead>\n",
       "  <tbody>\n",
       "    <tr>\n",
       "      <th>price</th>\n",
       "      <td>2357</td>\n",
       "      <td>7.87</td>\n",
       "    </tr>\n",
       "    <tr>\n",
       "      <th>genres</th>\n",
       "      <td>1234</td>\n",
       "      <td>4.12</td>\n",
       "    </tr>\n",
       "    <tr>\n",
       "      <th>developer</th>\n",
       "      <td>1185</td>\n",
       "      <td>3.95</td>\n",
       "    </tr>\n",
       "    <tr>\n",
       "      <th>specs</th>\n",
       "      <td>669</td>\n",
       "      <td>2.23</td>\n",
       "    </tr>\n",
       "    <tr>\n",
       "      <th>tags</th>\n",
       "      <td>161</td>\n",
       "      <td>0.54</td>\n",
       "    </tr>\n",
       "    <tr>\n",
       "      <th>app_name</th>\n",
       "      <td>1</td>\n",
       "      <td>0.00</td>\n",
       "    </tr>\n",
       "    <tr>\n",
       "      <th>id</th>\n",
       "      <td>0</td>\n",
       "      <td>0.00</td>\n",
       "    </tr>\n",
       "    <tr>\n",
       "      <th>release_year</th>\n",
       "      <td>0</td>\n",
       "      <td>0.00</td>\n",
       "    </tr>\n",
       "  </tbody>\n",
       "</table>\n",
       "</div>"
      ],
      "text/plain": [
       "              Nulos por Columna  Porcentaje de Nulos\n",
       "price                      2357                 7.87\n",
       "genres                     1234                 4.12\n",
       "developer                  1185                 3.95\n",
       "specs                       669                 2.23\n",
       "tags                        161                 0.54\n",
       "app_name                      1                 0.00\n",
       "id                            0                 0.00\n",
       "release_year                  0                 0.00"
      ]
     },
     "execution_count": 61,
     "metadata": {},
     "output_type": "execute_result"
    }
   ],
   "source": [
    "# Verifica nulos en cada columna del DataFrame\n",
    "nulos_por_columna = df_Steam.isnull().sum()\n",
    "porcentaje_nulos_por_columna = (df_Steam.isnull().mean() * 100).round(2)\n",
    "\n",
    "# Muestra la cantidad y porcentaje de nulos por columna\n",
    "resultados_nulos = pd.DataFrame({\n",
    "    'Nulos por Columna': nulos_por_columna,\n",
    "    'Porcentaje de Nulos': porcentaje_nulos_por_columna\n",
    "})\n",
    "\n",
    "# Ordena los resultados por el porcentaje de nulos de manera descendente\n",
    "resultados_nulos_sorted = resultados_nulos.sort_values(by='Porcentaje de Nulos', ascending=False)\n",
    "\n",
    "print(\"Resumen de nulos por columna:\")\n",
    "resultados_nulos_sorted"
   ]
  },
  {
   "cell_type": "code",
   "execution_count": 62,
   "metadata": {},
   "outputs": [
    {
     "data": {
      "text/plain": [
       "(29964, 8)"
      ]
     },
     "execution_count": 62,
     "metadata": {},
     "output_type": "execute_result"
    }
   ],
   "source": [
    "df_Steam.shape"
   ]
  },
  {
   "cell_type": "code",
   "execution_count": 65,
   "metadata": {},
   "outputs": [],
   "source": [
    "# Tratamientos adicionales\n",
    "\n",
    "# Actualiza el nombre a 'item_id'\n",
    "df_Steam = df_Steam.rename(columns={'id': 'item_id'})\n",
    "# Ordena las columnas\n",
    "column_order = ['item_id', 'developer', 'release_year', 'app_name', 'tags', 'specs', 'genres', 'price']\n",
    "df_Steam = df_Steam[column_order]\n",
    "\n",
    "# Convertir la columna item_id de float64 a int64\n",
    "df_Steam['item_id'] = df_Steam['item_id'].astype('Int64')"
   ]
  },
  {
   "cell_type": "code",
   "execution_count": 76,
   "metadata": {},
   "outputs": [
    {
     "name": "stdout",
     "output_type": "stream",
     "text": [
      "<class 'pandas.core.frame.DataFrame'>\n",
      "Index: 29964 entries, 88310 to 120443\n",
      "Data columns (total 8 columns):\n",
      " #   Column        Non-Null Count  Dtype  \n",
      "---  ------        --------------  -----  \n",
      " 0   item_id       29964 non-null  Int64  \n",
      " 1   developer     28779 non-null  object \n",
      " 2   release_year  29964 non-null  Int64  \n",
      " 3   app_name      29963 non-null  object \n",
      " 4   tags          29803 non-null  object \n",
      " 5   specs         29295 non-null  object \n",
      " 6   genres        28730 non-null  object \n",
      " 7   price         27607 non-null  float64\n",
      "dtypes: Int64(2), float64(1), object(5)\n",
      "memory usage: 2.1+ MB\n"
     ]
    }
   ],
   "source": [
    "df_Steam.info()"
   ]
  },
  {
   "cell_type": "markdown",
   "metadata": {},
   "source": [
    "### 3. Cargar"
   ]
  },
  {
   "cell_type": "markdown",
   "metadata": {},
   "source": [
    "En este paso se guarda los datos transformados en un formato csv y listos para su posterior análisis o uso."
   ]
  },
  {
   "cell_type": "code",
   "execution_count": 78,
   "metadata": {},
   "outputs": [],
   "source": [
    "# Los archivos se almacenan en local \n",
    "df_Steam.to_csv('steam_games_final.csv', index=False)"
   ]
  },
  {
   "cell_type": "markdown",
   "metadata": {},
   "source": [
    "Opcional"
   ]
  },
  {
   "cell_type": "code",
   "execution_count": 79,
   "metadata": {},
   "outputs": [],
   "source": [
    "# Menor uso de espacio de almacenamiento en comparación con CSV, especialmente para conjuntos de datos grandes.\n",
    "df_Steam.to_parquet('steam_games_final.parquet', index=False)"
   ]
  }
 ],
 "metadata": {
  "kernelspec": {
   "display_name": "Python 3",
   "language": "python",
   "name": "python3"
  },
  "language_info": {
   "codemirror_mode": {
    "name": "ipython",
    "version": 3
   },
   "file_extension": ".py",
   "mimetype": "text/x-python",
   "name": "python",
   "nbconvert_exporter": "python",
   "pygments_lexer": "ipython3",
   "version": "3.12.1"
  }
 },
 "nbformat": 4,
 "nbformat_minor": 2
}
